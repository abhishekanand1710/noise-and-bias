{
 "cells": [
  {
   "cell_type": "code",
   "execution_count": 4,
   "metadata": {},
   "outputs": [],
   "source": [
    "import pandas as pd\n",
    "import seaborn as sns\n",
    "import numpy as np\n",
    "import matplotlib.pyplot as plt\n",
    "from sklearn.metrics import f1_score\n",
    "\n",
    "from statannotations.Annotator import Annotator\n",
    "\n",
    "import json"
   ]
  },
  {
   "cell_type": "code",
   "execution_count": 5,
   "metadata": {},
   "outputs": [
    {
     "data": {
      "text/html": [
       "<div>\n",
       "<style scoped>\n",
       "    .dataframe tbody tr th:only-of-type {\n",
       "        vertical-align: middle;\n",
       "    }\n",
       "\n",
       "    .dataframe tbody tr th {\n",
       "        vertical-align: top;\n",
       "    }\n",
       "\n",
       "    .dataframe thead th {\n",
       "        text-align: right;\n",
       "    }\n",
       "</style>\n",
       "<table border=\"1\" class=\"dataframe\">\n",
       "  <thead>\n",
       "    <tr style=\"text-align: right;\">\n",
       "      <th></th>\n",
       "      <th>Aindex</th>\n",
       "      <th>Mindex</th>\n",
       "      <th>text</th>\n",
       "      <th>label_0_mean</th>\n",
       "      <th>label_0_std</th>\n",
       "      <th>label_0_last</th>\n",
       "      <th>label_1_mean</th>\n",
       "      <th>label_1_std</th>\n",
       "      <th>label_1_last</th>\n",
       "      <th>label_2_mean</th>\n",
       "      <th>...</th>\n",
       "      <th>confidence</th>\n",
       "      <th>variability</th>\n",
       "      <th>correctness</th>\n",
       "      <th>is_correct</th>\n",
       "      <th>majority_label</th>\n",
       "      <th>agreement_factor</th>\n",
       "      <th>agreement_factor_rd</th>\n",
       "      <th>disagrees_with_majority</th>\n",
       "      <th>majority_confidence</th>\n",
       "      <th>majority_variability</th>\n",
       "    </tr>\n",
       "  </thead>\n",
       "  <tbody>\n",
       "    <tr>\n",
       "      <th>0</th>\n",
       "      <td>0</td>\n",
       "      <td>0</td>\n",
       "      <td>Yes indeed. She sort of reminds me of the elde...</td>\n",
       "      <td>0.979439</td>\n",
       "      <td>0.022946</td>\n",
       "      <td>0.996452</td>\n",
       "      <td>0.016314</td>\n",
       "      <td>0.021729</td>\n",
       "      <td>0.003200</td>\n",
       "      <td>0.004247</td>\n",
       "      <td>...</td>\n",
       "      <td>0.979439</td>\n",
       "      <td>0.022946</td>\n",
       "      <td>0.996452</td>\n",
       "      <td>True</td>\n",
       "      <td>0.0</td>\n",
       "      <td>1.0</td>\n",
       "      <td>1.0</td>\n",
       "      <td>False</td>\n",
       "      <td>0.967461</td>\n",
       "      <td>0.042144</td>\n",
       "    </tr>\n",
       "    <tr>\n",
       "      <th>1</th>\n",
       "      <td>1</td>\n",
       "      <td>0</td>\n",
       "      <td>Yes indeed. She sort of reminds me of the elde...</td>\n",
       "      <td>0.865400</td>\n",
       "      <td>0.223174</td>\n",
       "      <td>0.950641</td>\n",
       "      <td>0.049838</td>\n",
       "      <td>0.051277</td>\n",
       "      <td>0.048247</td>\n",
       "      <td>0.084761</td>\n",
       "      <td>...</td>\n",
       "      <td>0.865400</td>\n",
       "      <td>0.223174</td>\n",
       "      <td>0.950641</td>\n",
       "      <td>True</td>\n",
       "      <td>0.0</td>\n",
       "      <td>1.0</td>\n",
       "      <td>1.0</td>\n",
       "      <td>False</td>\n",
       "      <td>0.967461</td>\n",
       "      <td>0.042144</td>\n",
       "    </tr>\n",
       "    <tr>\n",
       "      <th>2</th>\n",
       "      <td>2</td>\n",
       "      <td>0</td>\n",
       "      <td>Yes indeed. She sort of reminds me of the elde...</td>\n",
       "      <td>0.997998</td>\n",
       "      <td>0.002761</td>\n",
       "      <td>0.999996</td>\n",
       "      <td>0.001491</td>\n",
       "      <td>0.001997</td>\n",
       "      <td>0.000004</td>\n",
       "      <td>0.000512</td>\n",
       "      <td>...</td>\n",
       "      <td>0.997998</td>\n",
       "      <td>0.002761</td>\n",
       "      <td>0.999996</td>\n",
       "      <td>True</td>\n",
       "      <td>0.0</td>\n",
       "      <td>1.0</td>\n",
       "      <td>1.0</td>\n",
       "      <td>False</td>\n",
       "      <td>0.967461</td>\n",
       "      <td>0.042144</td>\n",
       "    </tr>\n",
       "    <tr>\n",
       "      <th>3</th>\n",
       "      <td>3</td>\n",
       "      <td>0</td>\n",
       "      <td>Yes indeed. She sort of reminds me of the elde...</td>\n",
       "      <td>0.972739</td>\n",
       "      <td>0.048130</td>\n",
       "      <td>0.999696</td>\n",
       "      <td>0.014822</td>\n",
       "      <td>0.021249</td>\n",
       "      <td>0.000300</td>\n",
       "      <td>0.012439</td>\n",
       "      <td>...</td>\n",
       "      <td>0.972739</td>\n",
       "      <td>0.048130</td>\n",
       "      <td>0.999696</td>\n",
       "      <td>True</td>\n",
       "      <td>0.0</td>\n",
       "      <td>1.0</td>\n",
       "      <td>1.0</td>\n",
       "      <td>False</td>\n",
       "      <td>0.967461</td>\n",
       "      <td>0.042144</td>\n",
       "    </tr>\n",
       "    <tr>\n",
       "      <th>4</th>\n",
       "      <td>4</td>\n",
       "      <td>0</td>\n",
       "      <td>Yes indeed. She sort of reminds me of the elde...</td>\n",
       "      <td>0.991905</td>\n",
       "      <td>0.010910</td>\n",
       "      <td>0.997815</td>\n",
       "      <td>0.007289</td>\n",
       "      <td>0.011239</td>\n",
       "      <td>0.002185</td>\n",
       "      <td>0.000806</td>\n",
       "      <td>...</td>\n",
       "      <td>0.991905</td>\n",
       "      <td>0.010910</td>\n",
       "      <td>0.997815</td>\n",
       "      <td>True</td>\n",
       "      <td>0.0</td>\n",
       "      <td>1.0</td>\n",
       "      <td>1.0</td>\n",
       "      <td>False</td>\n",
       "      <td>0.967461</td>\n",
       "      <td>0.042144</td>\n",
       "    </tr>\n",
       "  </tbody>\n",
       "</table>\n",
       "<p>5 rows × 27 columns</p>\n",
       "</div>"
      ],
      "text/plain": [
       "   Aindex  Mindex                                               text  \\\n",
       "0       0       0  Yes indeed. She sort of reminds me of the elde...   \n",
       "1       1       0  Yes indeed. She sort of reminds me of the elde...   \n",
       "2       2       0  Yes indeed. She sort of reminds me of the elde...   \n",
       "3       3       0  Yes indeed. She sort of reminds me of the elde...   \n",
       "4       4       0  Yes indeed. She sort of reminds me of the elde...   \n",
       "\n",
       "   label_0_mean  label_0_std  label_0_last  label_1_mean  label_1_std  \\\n",
       "0      0.979439     0.022946      0.996452      0.016314     0.021729   \n",
       "1      0.865400     0.223174      0.950641      0.049838     0.051277   \n",
       "2      0.997998     0.002761      0.999996      0.001491     0.001997   \n",
       "3      0.972739     0.048130      0.999696      0.014822     0.021249   \n",
       "4      0.991905     0.010910      0.997815      0.007289     0.011239   \n",
       "\n",
       "   label_1_last  label_2_mean  ...  confidence  variability  correctness  \\\n",
       "0      0.003200      0.004247  ...    0.979439     0.022946     0.996452   \n",
       "1      0.048247      0.084761  ...    0.865400     0.223174     0.950641   \n",
       "2      0.000004      0.000512  ...    0.997998     0.002761     0.999996   \n",
       "3      0.000300      0.012439  ...    0.972739     0.048130     0.999696   \n",
       "4      0.002185      0.000806  ...    0.991905     0.010910     0.997815   \n",
       "\n",
       "   is_correct  majority_label  agreement_factor  agreement_factor_rd  \\\n",
       "0        True             0.0               1.0                  1.0   \n",
       "1        True             0.0               1.0                  1.0   \n",
       "2        True             0.0               1.0                  1.0   \n",
       "3        True             0.0               1.0                  1.0   \n",
       "4        True             0.0               1.0                  1.0   \n",
       "\n",
       "   disagrees_with_majority  majority_confidence  majority_variability  \n",
       "0                    False             0.967461              0.042144  \n",
       "1                    False             0.967461              0.042144  \n",
       "2                    False             0.967461              0.042144  \n",
       "3                    False             0.967461              0.042144  \n",
       "4                    False             0.967461              0.042144  \n",
       "\n",
       "[5 rows x 27 columns]"
      ]
     },
     "execution_count": 5,
     "metadata": {},
     "output_type": "execute_result"
    }
   ],
   "source": [
    "cartography_df = pd.read_csv('./results/full_cartography.csv')\n",
    "cartography_df.head()"
   ]
  },
  {
   "cell_type": "code",
   "execution_count": 6,
   "metadata": {},
   "outputs": [
    {
     "data": {
      "text/html": [
       "<div>\n",
       "<style scoped>\n",
       "    .dataframe tbody tr th:only-of-type {\n",
       "        vertical-align: middle;\n",
       "    }\n",
       "\n",
       "    .dataframe tbody tr th {\n",
       "        vertical-align: top;\n",
       "    }\n",
       "\n",
       "    .dataframe thead th {\n",
       "        text-align: right;\n",
       "    }\n",
       "</style>\n",
       "<table border=\"1\" class=\"dataframe\">\n",
       "  <thead>\n",
       "    <tr style=\"text-align: right;\">\n",
       "      <th></th>\n",
       "      <th>Aindex</th>\n",
       "      <th>Mindex</th>\n",
       "      <th>text</th>\n",
       "      <th>label_0_mean</th>\n",
       "      <th>label_0_std</th>\n",
       "      <th>label_0_last</th>\n",
       "      <th>label_1_mean</th>\n",
       "      <th>label_1_std</th>\n",
       "      <th>label_1_last</th>\n",
       "      <th>label_2_mean</th>\n",
       "      <th>...</th>\n",
       "      <th>confidence</th>\n",
       "      <th>variability</th>\n",
       "      <th>correctness</th>\n",
       "      <th>is_correct</th>\n",
       "      <th>majority_label</th>\n",
       "      <th>agreement_factor</th>\n",
       "      <th>agreement_factor_rd</th>\n",
       "      <th>disagrees_with_majority</th>\n",
       "      <th>majority_confidence</th>\n",
       "      <th>majority_variability</th>\n",
       "    </tr>\n",
       "  </thead>\n",
       "  <tbody>\n",
       "    <tr>\n",
       "      <th>5</th>\n",
       "      <td>0</td>\n",
       "      <td>6030</td>\n",
       "      <td>It's that season, when niggas go to jail for n...</td>\n",
       "      <td>0.325298</td>\n",
       "      <td>0.088896</td>\n",
       "      <td>0.284761</td>\n",
       "      <td>0.214807</td>\n",
       "      <td>0.069897</td>\n",
       "      <td>0.322640</td>\n",
       "      <td>0.459894</td>\n",
       "      <td>...</td>\n",
       "      <td>0.214807</td>\n",
       "      <td>0.069897</td>\n",
       "      <td>0.322640</td>\n",
       "      <td>False</td>\n",
       "      <td>2.0</td>\n",
       "      <td>0.6</td>\n",
       "      <td>0.6</td>\n",
       "      <td>True</td>\n",
       "      <td>0.751516</td>\n",
       "      <td>0.183129</td>\n",
       "    </tr>\n",
       "    <tr>\n",
       "      <th>6</th>\n",
       "      <td>1</td>\n",
       "      <td>6030</td>\n",
       "      <td>It's that season, when niggas go to jail for n...</td>\n",
       "      <td>0.289688</td>\n",
       "      <td>0.056357</td>\n",
       "      <td>0.315893</td>\n",
       "      <td>0.293534</td>\n",
       "      <td>0.136602</td>\n",
       "      <td>0.399393</td>\n",
       "      <td>0.416778</td>\n",
       "      <td>...</td>\n",
       "      <td>0.289688</td>\n",
       "      <td>0.056357</td>\n",
       "      <td>0.315893</td>\n",
       "      <td>False</td>\n",
       "      <td>2.0</td>\n",
       "      <td>0.6</td>\n",
       "      <td>0.6</td>\n",
       "      <td>True</td>\n",
       "      <td>0.751516</td>\n",
       "      <td>0.183129</td>\n",
       "    </tr>\n",
       "    <tr>\n",
       "      <th>7</th>\n",
       "      <td>2683</td>\n",
       "      <td>6030</td>\n",
       "      <td>It's that season, when niggas go to jail for n...</td>\n",
       "      <td>0.375071</td>\n",
       "      <td>0.146084</td>\n",
       "      <td>0.386261</td>\n",
       "      <td>0.052920</td>\n",
       "      <td>0.036037</td>\n",
       "      <td>0.056826</td>\n",
       "      <td>0.572009</td>\n",
       "      <td>...</td>\n",
       "      <td>0.572009</td>\n",
       "      <td>0.137849</td>\n",
       "      <td>0.556913</td>\n",
       "      <td>True</td>\n",
       "      <td>2.0</td>\n",
       "      <td>0.6</td>\n",
       "      <td>0.6</td>\n",
       "      <td>False</td>\n",
       "      <td>0.751516</td>\n",
       "      <td>0.183129</td>\n",
       "    </tr>\n",
       "    <tr>\n",
       "      <th>8</th>\n",
       "      <td>5548</td>\n",
       "      <td>6030</td>\n",
       "      <td>It's that season, when niggas go to jail for n...</td>\n",
       "      <td>0.229786</td>\n",
       "      <td>0.155913</td>\n",
       "      <td>0.052430</td>\n",
       "      <td>0.033205</td>\n",
       "      <td>0.055155</td>\n",
       "      <td>0.004640</td>\n",
       "      <td>0.737009</td>\n",
       "      <td>...</td>\n",
       "      <td>0.737009</td>\n",
       "      <td>0.189778</td>\n",
       "      <td>0.942930</td>\n",
       "      <td>True</td>\n",
       "      <td>2.0</td>\n",
       "      <td>0.6</td>\n",
       "      <td>0.6</td>\n",
       "      <td>False</td>\n",
       "      <td>0.751516</td>\n",
       "      <td>0.183129</td>\n",
       "    </tr>\n",
       "    <tr>\n",
       "      <th>9</th>\n",
       "      <td>6427</td>\n",
       "      <td>6030</td>\n",
       "      <td>It's that season, when niggas go to jail for n...</td>\n",
       "      <td>0.356922</td>\n",
       "      <td>0.039684</td>\n",
       "      <td>0.354974</td>\n",
       "      <td>0.053855</td>\n",
       "      <td>0.052186</td>\n",
       "      <td>0.049717</td>\n",
       "      <td>0.589223</td>\n",
       "      <td>...</td>\n",
       "      <td>0.589223</td>\n",
       "      <td>0.072862</td>\n",
       "      <td>0.595310</td>\n",
       "      <td>True</td>\n",
       "      <td>2.0</td>\n",
       "      <td>0.6</td>\n",
       "      <td>0.6</td>\n",
       "      <td>False</td>\n",
       "      <td>0.751516</td>\n",
       "      <td>0.183129</td>\n",
       "    </tr>\n",
       "  </tbody>\n",
       "</table>\n",
       "<p>5 rows × 27 columns</p>\n",
       "</div>"
      ],
      "text/plain": [
       "   Aindex  Mindex                                               text  \\\n",
       "5       0    6030  It's that season, when niggas go to jail for n...   \n",
       "6       1    6030  It's that season, when niggas go to jail for n...   \n",
       "7    2683    6030  It's that season, when niggas go to jail for n...   \n",
       "8    5548    6030  It's that season, when niggas go to jail for n...   \n",
       "9    6427    6030  It's that season, when niggas go to jail for n...   \n",
       "\n",
       "   label_0_mean  label_0_std  label_0_last  label_1_mean  label_1_std  \\\n",
       "5      0.325298     0.088896      0.284761      0.214807     0.069897   \n",
       "6      0.289688     0.056357      0.315893      0.293534     0.136602   \n",
       "7      0.375071     0.146084      0.386261      0.052920     0.036037   \n",
       "8      0.229786     0.155913      0.052430      0.033205     0.055155   \n",
       "9      0.356922     0.039684      0.354974      0.053855     0.052186   \n",
       "\n",
       "   label_1_last  label_2_mean  ...  confidence  variability  correctness  \\\n",
       "5      0.322640      0.459894  ...    0.214807     0.069897     0.322640   \n",
       "6      0.399393      0.416778  ...    0.289688     0.056357     0.315893   \n",
       "7      0.056826      0.572009  ...    0.572009     0.137849     0.556913   \n",
       "8      0.004640      0.737009  ...    0.737009     0.189778     0.942930   \n",
       "9      0.049717      0.589223  ...    0.589223     0.072862     0.595310   \n",
       "\n",
       "   is_correct  majority_label  agreement_factor  agreement_factor_rd  \\\n",
       "5       False             2.0               0.6                  0.6   \n",
       "6       False             2.0               0.6                  0.6   \n",
       "7        True             2.0               0.6                  0.6   \n",
       "8        True             2.0               0.6                  0.6   \n",
       "9        True             2.0               0.6                  0.6   \n",
       "\n",
       "   disagrees_with_majority  majority_confidence  majority_variability  \n",
       "5                     True             0.751516              0.183129  \n",
       "6                     True             0.751516              0.183129  \n",
       "7                    False             0.751516              0.183129  \n",
       "8                    False             0.751516              0.183129  \n",
       "9                    False             0.751516              0.183129  \n",
       "\n",
       "[5 rows x 27 columns]"
      ]
     },
     "execution_count": 6,
     "metadata": {},
     "output_type": "execute_result"
    }
   ],
   "source": [
    "both_votes_df = cartography_df[cartography_df['agreement_factor'] < 1.0].copy()\n",
    "both_votes_df.head()"
   ]
  },
  {
   "cell_type": "code",
   "execution_count": 7,
   "metadata": {},
   "outputs": [],
   "source": [
    "both_votes_df['label'] = both_votes_df['label'].astype(int)"
   ]
  },
  {
   "cell_type": "code",
   "execution_count": 8,
   "metadata": {},
   "outputs": [
    {
     "data": {
      "text/plain": [
       "31652"
      ]
     },
     "execution_count": 8,
     "metadata": {},
     "output_type": "execute_result"
    }
   ],
   "source": [
    "cartography_df['Mindex'].nunique()"
   ]
  },
  {
   "cell_type": "code",
   "execution_count": 9,
   "metadata": {},
   "outputs": [
    {
     "data": {
      "text/plain": [
       "array([[0.2148074775934219,\n",
       "        \"It's that season, when niggas go to jail for no reason.\", 0, 2,\n",
       "        1],\n",
       "       [0.2896877378225326,\n",
       "        \"It's that season, when niggas go to jail for no reason.\", 1, 1,\n",
       "        0],\n",
       "       [0.5720087110996246,\n",
       "        \"It's that season, when niggas go to jail for no reason.\", 2683,\n",
       "        2, 2],\n",
       "       [0.7370088219642639,\n",
       "        \"It's that season, when niggas go to jail for no reason.\", 5548,\n",
       "        2, 2],\n",
       "       [0.5892233431339264,\n",
       "        \"It's that season, when niggas go to jail for no reason.\", 6427,\n",
       "        2, 2]], dtype=object)"
      ]
     },
     "execution_count": 9,
     "metadata": {},
     "output_type": "execute_result"
    }
   ],
   "source": [
    "both_votes_df[both_votes_df['Mindex'] == 6030][['confidence', 'text', 'Aindex', 'pred', 'label']].values"
   ]
  },
  {
   "cell_type": "code",
   "execution_count": 10,
   "metadata": {},
   "outputs": [
    {
     "data": {
      "text/plain": [
       "array([[0.2148074775934219,\n",
       "        \"It's that season, when niggas go to jail for no reason.\", 2, 1],\n",
       "       [0.0681763602420687,\n",
       "        '@papillonpsyche gerry and Martin \"mortifying gay parents\" solidarity',\n",
       "        0, 2],\n",
       "       [0.910931134223938,\n",
       "        \"Hitler didn't finish it. Can u. If a nigger ur Jew confronts u in the street what then.\",\n",
       "        2, 2],\n",
       "       [0.821619176864624,\n",
       "        'Yes, in barbaric, authoritarian cultures that have since been condemned. Interesting that Christians desire to perpetuate the same idea.',\n",
       "        0, 0]], dtype=object)"
      ]
     },
     "execution_count": 10,
     "metadata": {},
     "output_type": "execute_result"
    }
   ],
   "source": [
    "both_votes_df[both_votes_df['Aindex'] == 0][['confidence', 'text', 'pred', 'label']].values"
   ]
  },
  {
   "cell_type": "code",
   "execution_count": 11,
   "metadata": {},
   "outputs": [
    {
     "data": {
      "text/plain": [
       "65881"
      ]
     },
     "execution_count": 11,
     "metadata": {},
     "output_type": "execute_result"
    }
   ],
   "source": [
    "len(both_votes_df)"
   ]
  },
  {
   "cell_type": "code",
   "execution_count": 12,
   "metadata": {},
   "outputs": [
    {
     "data": {
      "text/plain": [
       "9556"
      ]
     },
     "execution_count": 12,
     "metadata": {},
     "output_type": "execute_result"
    }
   ],
   "source": [
    "both_votes_df['Mindex'].nunique()"
   ]
  },
  {
   "cell_type": "code",
   "execution_count": 13,
   "metadata": {},
   "outputs": [
    {
     "data": {
      "text/html": [
       "<div>\n",
       "<style scoped>\n",
       "    .dataframe tbody tr th:only-of-type {\n",
       "        vertical-align: middle;\n",
       "    }\n",
       "\n",
       "    .dataframe tbody tr th {\n",
       "        vertical-align: top;\n",
       "    }\n",
       "\n",
       "    .dataframe thead th {\n",
       "        text-align: right;\n",
       "    }\n",
       "</style>\n",
       "<table border=\"1\" class=\"dataframe\">\n",
       "  <thead>\n",
       "    <tr style=\"text-align: right;\">\n",
       "      <th>label</th>\n",
       "      <th>Mindex</th>\n",
       "      <th>label_0</th>\n",
       "      <th>label_1</th>\n",
       "      <th>label_2</th>\n",
       "    </tr>\n",
       "  </thead>\n",
       "  <tbody>\n",
       "    <tr>\n",
       "      <th>0</th>\n",
       "      <td>2</td>\n",
       "      <td>0.000000</td>\n",
       "      <td>0.274606</td>\n",
       "      <td>0.236653</td>\n",
       "    </tr>\n",
       "    <tr>\n",
       "      <th>1</th>\n",
       "      <td>3</td>\n",
       "      <td>0.913728</td>\n",
       "      <td>0.000000</td>\n",
       "      <td>0.130511</td>\n",
       "    </tr>\n",
       "    <tr>\n",
       "      <th>2</th>\n",
       "      <td>4</td>\n",
       "      <td>0.899364</td>\n",
       "      <td>0.000000</td>\n",
       "      <td>0.590355</td>\n",
       "    </tr>\n",
       "    <tr>\n",
       "      <th>3</th>\n",
       "      <td>9</td>\n",
       "      <td>0.725200</td>\n",
       "      <td>0.262707</td>\n",
       "      <td>0.534303</td>\n",
       "    </tr>\n",
       "    <tr>\n",
       "      <th>4</th>\n",
       "      <td>13</td>\n",
       "      <td>0.828116</td>\n",
       "      <td>0.268279</td>\n",
       "      <td>0.000000</td>\n",
       "    </tr>\n",
       "  </tbody>\n",
       "</table>\n",
       "</div>"
      ],
      "text/plain": [
       "label  Mindex   label_0   label_1   label_2\n",
       "0           2  0.000000  0.274606  0.236653\n",
       "1           3  0.913728  0.000000  0.130511\n",
       "2           4  0.899364  0.000000  0.590355\n",
       "3           9  0.725200  0.262707  0.534303\n",
       "4          13  0.828116  0.268279  0.000000"
      ]
     },
     "execution_count": 13,
     "metadata": {},
     "output_type": "execute_result"
    }
   ],
   "source": [
    "grouped_data_label = both_votes_df.groupby(['Mindex', 'label']).agg({'confidence': 'mean'}).reset_index()\n",
    "grouped_data_label = grouped_data_label.pivot(index='Mindex', columns='label', values='confidence').reset_index()\n",
    "grouped_data_label.rename(columns={0: 'label_0', 1: 'label_1', 2: 'label_2'}, inplace=True)\n",
    "grouped_data_label.fillna(0.0, inplace=True)\n",
    "grouped_data_label.head()"
   ]
  },
  {
   "cell_type": "code",
   "execution_count": 14,
   "metadata": {},
   "outputs": [],
   "source": [
    "count_column = both_votes_df.groupby('Mindex').size().reset_index(name='count')\n",
    "grouped_data_label = grouped_data_label.merge(count_column, on='Mindex')"
   ]
  },
  {
   "cell_type": "code",
   "execution_count": 15,
   "metadata": {},
   "outputs": [
    {
     "name": "stdout",
     "output_type": "stream",
     "text": [
      "<class 'pandas.core.frame.DataFrame'>\n",
      "Int64Index: 9556 entries, 0 to 9555\n",
      "Data columns (total 5 columns):\n",
      " #   Column   Non-Null Count  Dtype  \n",
      "---  ------   --------------  -----  \n",
      " 0   Mindex   9556 non-null   int64  \n",
      " 1   label_0  9556 non-null   float64\n",
      " 2   label_1  9556 non-null   float64\n",
      " 3   label_2  9556 non-null   float64\n",
      " 4   count    9556 non-null   int64  \n",
      "dtypes: float64(3), int64(2)\n",
      "memory usage: 447.9 KB\n"
     ]
    }
   ],
   "source": [
    "grouped_data_label.info()"
   ]
  },
  {
   "cell_type": "code",
   "execution_count": 16,
   "metadata": {},
   "outputs": [],
   "source": [
    "# for all label greater\n",
    "condition1 = ((grouped_data_label['label_0'] > 0.5) | (grouped_data_label['label_0'] == 0.0)) & ((grouped_data_label['label_1'] > 0.5) | (grouped_data_label['label_1'] == 0.0)) & ((grouped_data_label['label_2'] > 0.5) | (grouped_data_label['label_2'] == 0.0))\n",
    "# for all label lower\n",
    "condition2 = (grouped_data_label['label_0'] <= 0.5) & (grouped_data_label['label_1'] <= 0.5) & (grouped_data_label['label_2'] <= 0.5)\n",
    "# for 2 labels greater when all 3 are present\n",
    "\n",
    "condition3 = ((grouped_data_label['label_0'] > 0.5) ^ (grouped_data_label['label_1'] > 0.5) ^ (grouped_data_label['label_2'] > 0.5))\n",
    "\n",
    "# condition3 = (grouped_data_label['label_0'] > 0.5) | (grouped_data_label['label_1'] > 0.5) | (grouped_data_label['label_2'] > 0.5)\n",
    "# for only 1 label greater when 2 or 3 are present\n",
    "condition4 = (~condition1) & (~condition2) & (~condition3)"
   ]
  },
  {
   "cell_type": "code",
   "execution_count": 17,
   "metadata": {},
   "outputs": [
    {
     "data": {
      "text/html": [
       "<div>\n",
       "<style scoped>\n",
       "    .dataframe tbody tr th:only-of-type {\n",
       "        vertical-align: middle;\n",
       "    }\n",
       "\n",
       "    .dataframe tbody tr th {\n",
       "        vertical-align: top;\n",
       "    }\n",
       "\n",
       "    .dataframe thead th {\n",
       "        text-align: right;\n",
       "    }\n",
       "</style>\n",
       "<table border=\"1\" class=\"dataframe\">\n",
       "  <thead>\n",
       "    <tr style=\"text-align: right;\">\n",
       "      <th></th>\n",
       "      <th>Mindex</th>\n",
       "      <th>label_0</th>\n",
       "      <th>label_1</th>\n",
       "      <th>label_2</th>\n",
       "      <th>count</th>\n",
       "    </tr>\n",
       "  </thead>\n",
       "  <tbody>\n",
       "    <tr>\n",
       "      <th>1</th>\n",
       "      <td>3</td>\n",
       "      <td>0.913728</td>\n",
       "      <td>0.000000</td>\n",
       "      <td>0.130511</td>\n",
       "      <td>4</td>\n",
       "    </tr>\n",
       "    <tr>\n",
       "      <th>4</th>\n",
       "      <td>13</td>\n",
       "      <td>0.828116</td>\n",
       "      <td>0.268279</td>\n",
       "      <td>0.000000</td>\n",
       "      <td>2</td>\n",
       "    </tr>\n",
       "    <tr>\n",
       "      <th>5</th>\n",
       "      <td>14</td>\n",
       "      <td>0.602813</td>\n",
       "      <td>0.249745</td>\n",
       "      <td>0.499229</td>\n",
       "      <td>4</td>\n",
       "    </tr>\n",
       "    <tr>\n",
       "      <th>6</th>\n",
       "      <td>16</td>\n",
       "      <td>0.758738</td>\n",
       "      <td>0.152366</td>\n",
       "      <td>0.000000</td>\n",
       "      <td>4</td>\n",
       "    </tr>\n",
       "    <tr>\n",
       "      <th>7</th>\n",
       "      <td>17</td>\n",
       "      <td>0.375968</td>\n",
       "      <td>0.148244</td>\n",
       "      <td>0.634148</td>\n",
       "      <td>4</td>\n",
       "    </tr>\n",
       "  </tbody>\n",
       "</table>\n",
       "</div>"
      ],
      "text/plain": [
       "   Mindex   label_0   label_1   label_2  count\n",
       "1       3  0.913728  0.000000  0.130511      4\n",
       "4      13  0.828116  0.268279  0.000000      2\n",
       "5      14  0.602813  0.249745  0.499229      4\n",
       "6      16  0.758738  0.152366  0.000000      4\n",
       "7      17  0.375968  0.148244  0.634148      4"
      ]
     },
     "execution_count": 17,
     "metadata": {},
     "output_type": "execute_result"
    }
   ],
   "source": [
    "grouped_data_label[condition3].head()"
   ]
  },
  {
   "cell_type": "code",
   "execution_count": 18,
   "metadata": {},
   "outputs": [],
   "source": [
    "all_greater_indices = grouped_data_label[condition1]['Mindex'].values\n",
    "none_greater_indices = grouped_data_label[condition2]['Mindex'].values\n",
    "one_greater_indices = grouped_data_label[condition3]['Mindex'].values\n",
    "two_greater_indices = grouped_data_label[condition4]['Mindex'].values\n",
    "\n",
    "\n",
    "grouped_data_label['group'] = 0\n",
    "grouped_data_label.loc[grouped_data_label['Mindex'].isin(all_greater_indices), 'group'] = 'All Labels > 0.5'\n",
    "grouped_data_label.loc[grouped_data_label['Mindex'].isin(none_greater_indices), 'group'] = '0 Labels > 0.5'\n",
    "grouped_data_label.loc[grouped_data_label['Mindex'].isin(one_greater_indices), 'group'] = '1 Label > 0.5'\n",
    "grouped_data_label.loc[grouped_data_label['Mindex'].isin(two_greater_indices), 'group'] = '2 Labels > 0.5'"
   ]
  },
  {
   "cell_type": "code",
   "execution_count": 19,
   "metadata": {},
   "outputs": [
    {
     "data": {
      "text/plain": [
       "9512    39504\n",
       "Name: Mindex, dtype: int64"
      ]
     },
     "execution_count": 19,
     "metadata": {},
     "output_type": "execute_result"
    }
   ],
   "source": [
    "grouped_data_label[grouped_data_label['count'] == grouped_data_label['count'].max()]['Mindex']"
   ]
  },
  {
   "cell_type": "code",
   "execution_count": 20,
   "metadata": {},
   "outputs": [
    {
     "data": {
      "text/plain": [
       "nan"
      ]
     },
     "execution_count": 20,
     "metadata": {},
     "output_type": "execute_result"
    }
   ],
   "source": [
    "grouped_data_label[(grouped_data_label['group']=='one_greater') & (grouped_data_label['count']< 10)]['count'].mean()"
   ]
  },
  {
   "cell_type": "markdown",
   "metadata": {},
   "source": [
    "# Final plotting"
   ]
  },
  {
   "cell_type": "code",
   "execution_count": 22,
   "metadata": {},
   "outputs": [],
   "source": [
    "cartography_df['label_text'] = cartography_df['label'].map({0: 'supportive', 1: 'neutral', 2:'hate speech'})"
   ]
  },
  {
   "cell_type": "code",
   "execution_count": 23,
   "metadata": {},
   "outputs": [
    {
     "name": "stdout",
     "output_type": "stream",
     "text": [
      "p-value annotation legend:\n",
      "      ns: 5.00e-02 < p <= 1.00e+00\n",
      "       *: 1.00e-02 < p <= 5.00e-02\n",
      "      **: 1.00e-03 < p <= 1.00e-02\n",
      "     ***: 1.00e-04 < p <= 1.00e-03\n",
      "    ****: p <= 1.00e-04\n",
      "\n",
      "False vs. True: Mann-Whitney-Wilcoxon test two-sided, P_val:0.000e+00 U_stat=1.539e+09\n"
     ]
    },
    {
     "data": {
      "image/png": "[encoded data removed]",
      "text/plain": [
       "<Figure size 640x480 with 1 Axes>"
      ]
     },
     "metadata": {},
     "output_type": "display_data"
    }
   ],
   "source": [
    "ax = sns.boxplot(data=cartography_df, x=\"disagrees_with_majority\", y=\"confidence\", showfliers=False, palette='tab10')\n",
    "\n",
    "pairs=[ (False, True)]\n",
    "\n",
    "\n",
    "annotator = Annotator(ax, pairs, data=cartography_df, x=\"disagrees_with_majority\", y=\"confidence\")\n",
    "annotator.configure(test='Mann-Whitney', text_format='star')\n",
    "annotator.apply_and_annotate()\n",
    "\n",
    "plt.gca().set_ylabel(str(plt.gca().get_ylabel()).capitalize(), fontsize=14)\n",
    "plt.gca().set_xlabel('Disagrees with majority vote', fontsize=14)\n",
    "plt.xticks(fontsize=12)\n",
    "plt.yticks(fontsize=12)\n",
    "plt.savefig(\"./plots/disco/disagree_vs_conf.png\", dpi=600, bbox_inches='tight')"
   ]
  },
  {
   "cell_type": "code",
   "execution_count": 90,
   "metadata": {},
   "outputs": [
    {
     "name": "stdout",
     "output_type": "stream",
     "text": [
      "p-value annotation legend:\n",
      "      ns: 5.00e-02 < p <= 1.00e+00\n",
      "       *: 1.00e-02 < p <= 5.00e-02\n",
      "      **: 1.00e-03 < p <= 1.00e-02\n",
      "     ***: 1.00e-04 < p <= 1.00e-03\n",
      "    ****: p <= 1.00e-04\n",
      "\n",
      "0.6_0.0 vs. 1.0_0.0: Mann-Whitney-Wilcoxon test two-sided, P_val:0.000e+00 U_stat=4.880e+07\n",
      "0.6_1.0 vs. 1.0_1.0: Mann-Whitney-Wilcoxon test two-sided, P_val:1.169e-43 U_stat=2.732e+06\n"
     ]
    },
    {
     "data": {
      "image/png": "[encoded data removed]",
      "text/plain": [
       "<Figure size 640x480 with 1 Axes>"
      ]
     },
     "metadata": {},
     "output_type": "display_data"
    }
   ],
   "source": [
    "ax = sns.boxplot(data=cartography_df.sample(frac=1), x=\"agreement_factor_rd\", y=\"confidence\", hue='label_text', showfliers=False)\n",
    "\n",
    "\n",
    "pairs=[ ((0.6, 0), (1.0, 0)), ((0.6, 1), (1.0, 1))]\n",
    "\n",
    "\n",
    "annotator = Annotator(ax, pairs, data=cartography_df, x=\"agreement_factor_rd\", y=\"confidence\", hue='label')\n",
    "annotator.configure(test='Mann-Whitney', text_format='star')\n",
    "annotator.apply_and_annotate()\n",
    "\n",
    "plt.gca().set_ylabel(str(plt.gca().get_ylabel()).capitalize(), fontsize=14)\n",
    "plt.gca().set_xlabel('Agreement Factor', fontsize=14)\n",
    "plt.xticks(fontsize=12)\n",
    "plt.yticks(fontsize=12)\n",
    "plt.legend(title = 'Label', loc='lower right')\n",
    "plt.savefig(\"./plots/disco/agr_factor_vs_conf.png\", dpi=600, bbox_inches='tight')"
   ]
  },
  {
   "cell_type": "code",
   "execution_count": 29,
   "metadata": {},
   "outputs": [
    {
     "name": "stdout",
     "output_type": "stream",
     "text": [
      "p-value annotation legend:\n",
      "      ns: 5.00e-02 < p <= 1.00e+00\n",
      "       *: 1.00e-02 < p <= 5.00e-02\n",
      "      **: 1.00e-03 < p <= 1.00e-02\n",
      "     ***: 1.00e-04 < p <= 1.00e-03\n",
      "    ****: p <= 1.00e-04\n",
      "\n",
      "False vs. True: Mann-Whitney-Wilcoxon test two-sided, P_val:0.000e+00 U_stat=1.539e+09\n"
     ]
    },
    {
     "data": {
      "image/png": "[encoded data removed]",
      "text/plain": [
       "<Figure size 640x480 with 1 Axes>"
      ]
     },
     "metadata": {},
     "output_type": "display_data"
    }
   ],
   "source": [
    "ax = sns.boxplot(data=cartography_df[cartography_df['majority_confidence']<0.5], x=\"disagrees_with_majority\", y=\"confidence\", showfliers=False)\n",
    "\n",
    "pairs=[ (False, True)]\n",
    "\n",
    "\n",
    "annotator = Annotator(ax, pairs, data=cartography_df, x=\"disagrees_with_majority\", y=\"confidence\")\n",
    "annotator.configure(test='Mann-Whitney', text_format='star')\n",
    "annotator.apply_and_annotate()\n",
    "\n",
    "plt.title('Samples with low confidence (<0.5) in Single-GL model', fontsize=16)\n",
    "plt.gca().set_ylabel(str(plt.gca().get_ylabel()).capitalize(), fontsize=14)\n",
    "plt.gca().set_xlabel('Disagrees with majority vote', fontsize=14)\n",
    "plt.xticks(fontsize=12)\n",
    "plt.yticks(fontsize=12)\n",
    "plt.savefig(\"./plots/disco/low_conf_mjr_disagree_vs_conf.png\", dpi=600, bbox_inches='tight')"
   ]
  },
  {
   "cell_type": "code",
   "execution_count": 26,
   "metadata": {},
   "outputs": [
    {
     "data": {
      "image/png": "[encoded data removed]",
      "text/plain": [
       "<Figure size 640x480 with 1 Axes>"
      ]
     },
     "metadata": {},
     "output_type": "display_data"
    }
   ],
   "source": [
    "\n",
    "sns.countplot(x=grouped_data_label['group'], order=grouped_data_label['group'].value_counts().index, palette='tab10')\n",
    "\n",
    "plt.title('Confidence of Samples with Disagreement in Label', fontsize=16)\n",
    "plt.gca().set_ylabel(str(plt.gca().get_ylabel()).capitalize(), fontsize=14)\n",
    "plt.gca().set_xlabel('Group', fontsize=14)\n",
    "plt.xticks(fontsize=10)\n",
    "plt.yticks(fontsize=10)\n",
    "plt.savefig(\"./plots/disco/group_count.png\", dpi=600, bbox_inches='tight')"
   ]
  },
  {
   "cell_type": "code",
   "execution_count": 27,
   "metadata": {},
   "outputs": [
    {
     "data": {
      "text/plain": [
       "PearsonRResult(statistic=0.5085046431910627, pvalue=0.0)"
      ]
     },
     "execution_count": 27,
     "metadata": {},
     "output_type": "execute_result"
    }
   ],
   "source": [
    "from scipy.stats import pearsonr\n",
    "\n",
    "pearsonr(cartography_df['confidence'], cartography_df['agreement_factor_rd'])"
   ]
  },
  {
   "cell_type": "code",
   "execution_count": 30,
   "metadata": {},
   "outputs": [
    {
     "data": {
      "text/html": [
       "<div>\n",
       "<style scoped>\n",
       "    .dataframe tbody tr th:only-of-type {\n",
       "        vertical-align: middle;\n",
       "    }\n",
       "\n",
       "    .dataframe tbody tr th {\n",
       "        vertical-align: top;\n",
       "    }\n",
       "\n",
       "    .dataframe thead th {\n",
       "        text-align: right;\n",
       "    }\n",
       "</style>\n",
       "<table border=\"1\" class=\"dataframe\">\n",
       "  <thead>\n",
       "    <tr style=\"text-align: right;\">\n",
       "      <th></th>\n",
       "      <th>confidence</th>\n",
       "      <th>majority_confidence</th>\n",
       "    </tr>\n",
       "    <tr>\n",
       "      <th>Mindex</th>\n",
       "      <th></th>\n",
       "      <th></th>\n",
       "    </tr>\n",
       "  </thead>\n",
       "  <tbody>\n",
       "    <tr>\n",
       "      <th>0</th>\n",
       "      <td>0.997998</td>\n",
       "      <td>0.967461</td>\n",
       "    </tr>\n",
       "    <tr>\n",
       "      <th>1</th>\n",
       "      <td>0.997448</td>\n",
       "      <td>0.978830</td>\n",
       "    </tr>\n",
       "    <tr>\n",
       "      <th>2</th>\n",
       "      <td>0.293197</td>\n",
       "      <td>0.390326</td>\n",
       "    </tr>\n",
       "    <tr>\n",
       "      <th>3</th>\n",
       "      <td>0.982305</td>\n",
       "      <td>0.931561</td>\n",
       "    </tr>\n",
       "    <tr>\n",
       "      <th>4</th>\n",
       "      <td>0.899364</td>\n",
       "      <td>0.200328</td>\n",
       "    </tr>\n",
       "  </tbody>\n",
       "</table>\n",
       "</div>"
      ],
      "text/plain": [
       "        confidence  majority_confidence\n",
       "Mindex                                 \n",
       "0         0.997998             0.967461\n",
       "1         0.997448             0.978830\n",
       "2         0.293197             0.390326\n",
       "3         0.982305             0.931561\n",
       "4         0.899364             0.200328"
      ]
     },
     "execution_count": 30,
     "metadata": {},
     "output_type": "execute_result"
    }
   ],
   "source": [
    "max_conf_df = cartography_df.groupby('Mindex').agg({'confidence': 'max', 'majority_confidence': 'first'})\n",
    "max_conf_df.head()"
   ]
  },
  {
   "cell_type": "code",
   "execution_count": 33,
   "metadata": {},
   "outputs": [
    {
     "name": "stderr",
     "output_type": "stream",
     "text": [
      "/Users/abhishekanand/miniforge3/envs/py11-env/lib/python3.11/site-packages/seaborn/distributions.py:2551: FutureWarning: `distplot` is a deprecated function and will be removed in a future version. Please adapt your code to use either `displot` (a figure-level function with similar flexibility) or `kdeplot` (an axes-level function for kernel density plots).\n",
      "  warnings.warn(msg, FutureWarning)\n",
      "/Users/abhishekanand/miniforge3/envs/py11-env/lib/python3.11/site-packages/seaborn/distributions.py:2551: FutureWarning: `distplot` is a deprecated function and will be removed in a future version. Please adapt your code to use either `displot` (a figure-level function with similar flexibility) or `kdeplot` (an axes-level function for kernel density plots).\n",
      "  warnings.warn(msg, FutureWarning)\n"
     ]
    },
    {
     "data": {
      "text/plain": [
       "Text(0, 0.5, 'Density')"
      ]
     },
     "execution_count": 33,
     "metadata": {},
     "output_type": "execute_result"
    },
    {
     "data": {
      "image/png": "[encoded data removed]",
      "text/plain": [
       "<Figure size 640x480 with 1 Axes>"
      ]
     },
     "metadata": {},
     "output_type": "display_data"
    }
   ],
   "source": [
    "sns.distplot(max_conf_df['confidence'], hist = False, kde = True, kde_kws = {'linewidth': 2}, label = 'confidence')\n",
    "sns.distplot(max_conf_df['majority_confidence'], hist = False, kde = True, kde_kws = {'linewidth': 2}, label = 'majority_confidence')\n",
    "plt.legend(prop={'size': 10}, title = 'Columns')\n",
    "plt.title('Density Plot of Confidence and Majority Confidence')\n",
    "plt.xlabel('Value')\n",
    "plt.ylabel('Density')"
   ]
  },
  {
   "cell_type": "code",
   "execution_count": null,
   "metadata": {},
   "outputs": [],
   "source": []
  }
 ],
 "metadata": {
  "kernelspec": {
   "display_name": "py11-env",
   "language": "python",
   "name": "python3"
  },
  "language_info": {
   "codemirror_mode": {
    "name": "ipython",
    "version": 3
   },
   "file_extension": ".py",
   "mimetype": "text/x-python",
   "name": "python",
   "nbconvert_exporter": "python",
   "pygments_lexer": "ipython3",
   "version": "3.11.6"
  }
 },
 "nbformat": 4,
 "nbformat_minor": 2
}
