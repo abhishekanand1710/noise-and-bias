{
 "cells": [
  {
   "cell_type": "code",
   "execution_count": 35,
   "metadata": {},
   "outputs": [],
   "source": [
    "import pandas as pd\n",
    "import seaborn as sns\n",
    "import numpy as np\n",
    "import matplotlib.pyplot as plt\n",
    "from sklearn.metrics import f1_score\n",
    "\n",
    "from statannotations.Annotator import Annotator\n",
    "\n",
    "import json"
   ]
  },
  {
   "cell_type": "code",
   "execution_count": 36,
   "metadata": {},
   "outputs": [],
   "source": [
    "# sns.set(rc={'text.usetex' : True})\n",
    "sns.set_style(\"whitegrid\")"
   ]
  },
  {
   "cell_type": "code",
   "execution_count": 75,
   "metadata": {},
   "outputs": [],
   "source": [
    "plt.rcParams[\"font.family\"] = \"Times New Roman\"\n",
    "sns.set(rc={'text.usetex' : True})\n",
    "sns.set_style(\"whitegrid\")\n",
    "plt.rcParams[\"font.family\"] = \"serif\"\n",
    "plt.rcParams[\"font.serif\"] = [\"Times New Roman\"]"
   ]
  },
  {
   "cell_type": "code",
   "execution_count": 121,
   "metadata": {},
   "outputs": [
    {
     "data": {
      "text/plain": [
       "Index(['Aindex', 'Mindex', 'text', 'label_0_mean', 'label_0_std',\n",
       "       'label_0_last', 'label_1_mean', 'label_1_std', 'label_1_last', 'label',\n",
       "       'pred', 'agreement_level', 'annotator_id', 'comment_id',\n",
       "       'majority_label', 'confidence', 'variability', 'correctness',\n",
       "       'is_correct', 'agreement_factor', 'agreement_factor_rd',\n",
       "       'disagrees_with_majority', 'majority_confidence',\n",
       "       'majority_variability', 'label_text'],\n",
       "      dtype='object')"
      ]
     },
     "execution_count": 121,
     "metadata": {},
     "output_type": "execute_result"
    }
   ],
   "source": [
    "cartography_df.columns"
   ]
  },
  {
   "cell_type": "code",
   "execution_count": 2,
   "metadata": {},
   "outputs": [
    {
     "data": {
      "text/html": [
       "<div>\n",
       "<style scoped>\n",
       "    .dataframe tbody tr th:only-of-type {\n",
       "        vertical-align: middle;\n",
       "    }\n",
       "\n",
       "    .dataframe tbody tr th {\n",
       "        vertical-align: top;\n",
       "    }\n",
       "\n",
       "    .dataframe thead th {\n",
       "        text-align: right;\n",
       "    }\n",
       "</style>\n",
       "<table border=\"1\" class=\"dataframe\">\n",
       "  <thead>\n",
       "    <tr style=\"text-align: right;\">\n",
       "      <th></th>\n",
       "      <th>Aindex</th>\n",
       "      <th>Mindex</th>\n",
       "      <th>text</th>\n",
       "      <th>label_0_mean</th>\n",
       "      <th>label_0_std</th>\n",
       "      <th>label_0_last</th>\n",
       "      <th>label_1_mean</th>\n",
       "      <th>label_1_std</th>\n",
       "      <th>label_1_last</th>\n",
       "      <th>label</th>\n",
       "      <th>...</th>\n",
       "      <th>majority_label</th>\n",
       "      <th>confidence</th>\n",
       "      <th>variability</th>\n",
       "      <th>correctness</th>\n",
       "      <th>is_correct</th>\n",
       "      <th>agreement_factor</th>\n",
       "      <th>agreement_factor_rd</th>\n",
       "      <th>disagrees_with_majority</th>\n",
       "      <th>majority_confidence</th>\n",
       "      <th>majority_variability</th>\n",
       "    </tr>\n",
       "  </thead>\n",
       "  <tbody>\n",
       "    <tr>\n",
       "      <th>0</th>\n",
       "      <td>0</td>\n",
       "      <td>519</td>\n",
       "      <td>&lt;user&gt; &lt;user&gt; Sorry, which old man?</td>\n",
       "      <td>0.909335</td>\n",
       "      <td>0.087134</td>\n",
       "      <td>0.977597</td>\n",
       "      <td>0.090665</td>\n",
       "      <td>0.087134</td>\n",
       "      <td>0.022403</td>\n",
       "      <td>0</td>\n",
       "      <td>...</td>\n",
       "      <td>0</td>\n",
       "      <td>0.909335</td>\n",
       "      <td>0.087134</td>\n",
       "      <td>0.977597</td>\n",
       "      <td>True</td>\n",
       "      <td>1.0</td>\n",
       "      <td>1.0</td>\n",
       "      <td>False</td>\n",
       "      <td>0.960451</td>\n",
       "      <td>0.046082</td>\n",
       "    </tr>\n",
       "    <tr>\n",
       "      <th>1</th>\n",
       "      <td>4</td>\n",
       "      <td>519</td>\n",
       "      <td>&lt;user&gt; &lt;user&gt; Sorry, which old man?</td>\n",
       "      <td>0.935822</td>\n",
       "      <td>0.077746</td>\n",
       "      <td>0.998418</td>\n",
       "      <td>0.064178</td>\n",
       "      <td>0.077746</td>\n",
       "      <td>0.001582</td>\n",
       "      <td>0</td>\n",
       "      <td>...</td>\n",
       "      <td>0</td>\n",
       "      <td>0.935822</td>\n",
       "      <td>0.077746</td>\n",
       "      <td>0.998418</td>\n",
       "      <td>True</td>\n",
       "      <td>1.0</td>\n",
       "      <td>1.0</td>\n",
       "      <td>False</td>\n",
       "      <td>0.960451</td>\n",
       "      <td>0.046082</td>\n",
       "    </tr>\n",
       "    <tr>\n",
       "      <th>2</th>\n",
       "      <td>158</td>\n",
       "      <td>519</td>\n",
       "      <td>&lt;user&gt; &lt;user&gt; Sorry, which old man?</td>\n",
       "      <td>0.964263</td>\n",
       "      <td>0.048459</td>\n",
       "      <td>0.996545</td>\n",
       "      <td>0.035737</td>\n",
       "      <td>0.048459</td>\n",
       "      <td>0.003455</td>\n",
       "      <td>0</td>\n",
       "      <td>...</td>\n",
       "      <td>0</td>\n",
       "      <td>0.964263</td>\n",
       "      <td>0.048459</td>\n",
       "      <td>0.996545</td>\n",
       "      <td>True</td>\n",
       "      <td>1.0</td>\n",
       "      <td>1.0</td>\n",
       "      <td>False</td>\n",
       "      <td>0.960451</td>\n",
       "      <td>0.046082</td>\n",
       "    </tr>\n",
       "    <tr>\n",
       "      <th>3</th>\n",
       "      <td>303</td>\n",
       "      <td>519</td>\n",
       "      <td>&lt;user&gt; &lt;user&gt; Sorry, which old man?</td>\n",
       "      <td>0.982817</td>\n",
       "      <td>0.014302</td>\n",
       "      <td>0.997595</td>\n",
       "      <td>0.017183</td>\n",
       "      <td>0.014302</td>\n",
       "      <td>0.002405</td>\n",
       "      <td>0</td>\n",
       "      <td>...</td>\n",
       "      <td>0</td>\n",
       "      <td>0.982817</td>\n",
       "      <td>0.014302</td>\n",
       "      <td>0.997595</td>\n",
       "      <td>True</td>\n",
       "      <td>1.0</td>\n",
       "      <td>1.0</td>\n",
       "      <td>False</td>\n",
       "      <td>0.960451</td>\n",
       "      <td>0.046082</td>\n",
       "    </tr>\n",
       "    <tr>\n",
       "      <th>4</th>\n",
       "      <td>402</td>\n",
       "      <td>519</td>\n",
       "      <td>&lt;user&gt; &lt;user&gt; Sorry, which old man?</td>\n",
       "      <td>0.949519</td>\n",
       "      <td>0.093693</td>\n",
       "      <td>0.997699</td>\n",
       "      <td>0.050481</td>\n",
       "      <td>0.093693</td>\n",
       "      <td>0.002301</td>\n",
       "      <td>0</td>\n",
       "      <td>...</td>\n",
       "      <td>0</td>\n",
       "      <td>0.949519</td>\n",
       "      <td>0.093693</td>\n",
       "      <td>0.997699</td>\n",
       "      <td>True</td>\n",
       "      <td>1.0</td>\n",
       "      <td>1.0</td>\n",
       "      <td>False</td>\n",
       "      <td>0.960451</td>\n",
       "      <td>0.046082</td>\n",
       "    </tr>\n",
       "  </tbody>\n",
       "</table>\n",
       "<p>5 rows × 24 columns</p>\n",
       "</div>"
      ],
      "text/plain": [
       "   Aindex  Mindex                                 text  label_0_mean  \\\n",
       "0       0     519  <user> <user> Sorry, which old man?      0.909335   \n",
       "1       4     519  <user> <user> Sorry, which old man?      0.935822   \n",
       "2     158     519  <user> <user> Sorry, which old man?      0.964263   \n",
       "3     303     519  <user> <user> Sorry, which old man?      0.982817   \n",
       "4     402     519  <user> <user> Sorry, which old man?      0.949519   \n",
       "\n",
       "   label_0_std  label_0_last  label_1_mean  label_1_std  label_1_last  label  \\\n",
       "0     0.087134      0.977597      0.090665     0.087134      0.022403      0   \n",
       "1     0.077746      0.998418      0.064178     0.077746      0.001582      0   \n",
       "2     0.048459      0.996545      0.035737     0.048459      0.003455      0   \n",
       "3     0.014302      0.997595      0.017183     0.014302      0.002405      0   \n",
       "4     0.093693      0.997699      0.050481     0.093693      0.002301      0   \n",
       "\n",
       "   ...  majority_label confidence variability correctness  is_correct  \\\n",
       "0  ...               0   0.909335    0.087134    0.977597        True   \n",
       "1  ...               0   0.935822    0.077746    0.998418        True   \n",
       "2  ...               0   0.964263    0.048459    0.996545        True   \n",
       "3  ...               0   0.982817    0.014302    0.997595        True   \n",
       "4  ...               0   0.949519    0.093693    0.997699        True   \n",
       "\n",
       "   agreement_factor  agreement_factor_rd  disagrees_with_majority  \\\n",
       "0               1.0                  1.0                    False   \n",
       "1               1.0                  1.0                    False   \n",
       "2               1.0                  1.0                    False   \n",
       "3               1.0                  1.0                    False   \n",
       "4               1.0                  1.0                    False   \n",
       "\n",
       "   majority_confidence  majority_variability  \n",
       "0             0.960451              0.046082  \n",
       "1             0.960451              0.046082  \n",
       "2             0.960451              0.046082  \n",
       "3             0.960451              0.046082  \n",
       "4             0.960451              0.046082  \n",
       "\n",
       "[5 rows x 24 columns]"
      ]
     },
     "execution_count": 2,
     "metadata": {},
     "output_type": "execute_result"
    }
   ],
   "source": [
    "cartography_df = pd.read_csv('./results/full_cartography.csv')\n",
    "cartography_df.head()"
   ]
  },
  {
   "cell_type": "code",
   "execution_count": 3,
   "metadata": {},
   "outputs": [
    {
     "data": {
      "text/html": [
       "<div>\n",
       "<style scoped>\n",
       "    .dataframe tbody tr th:only-of-type {\n",
       "        vertical-align: middle;\n",
       "    }\n",
       "\n",
       "    .dataframe tbody tr th {\n",
       "        vertical-align: top;\n",
       "    }\n",
       "\n",
       "    .dataframe thead th {\n",
       "        text-align: right;\n",
       "    }\n",
       "</style>\n",
       "<table border=\"1\" class=\"dataframe\">\n",
       "  <thead>\n",
       "    <tr style=\"text-align: right;\">\n",
       "      <th></th>\n",
       "      <th>Aindex</th>\n",
       "      <th>Mindex</th>\n",
       "      <th>text</th>\n",
       "      <th>label_0_mean</th>\n",
       "      <th>label_0_std</th>\n",
       "      <th>label_0_last</th>\n",
       "      <th>label_1_mean</th>\n",
       "      <th>label_1_std</th>\n",
       "      <th>label_1_last</th>\n",
       "      <th>label</th>\n",
       "      <th>...</th>\n",
       "      <th>majority_label</th>\n",
       "      <th>confidence</th>\n",
       "      <th>variability</th>\n",
       "      <th>correctness</th>\n",
       "      <th>is_correct</th>\n",
       "      <th>agreement_factor</th>\n",
       "      <th>agreement_factor_rd</th>\n",
       "      <th>disagrees_with_majority</th>\n",
       "      <th>majority_confidence</th>\n",
       "      <th>majority_variability</th>\n",
       "    </tr>\n",
       "  </thead>\n",
       "  <tbody>\n",
       "    <tr>\n",
       "      <th>10</th>\n",
       "      <td>0</td>\n",
       "      <td>679</td>\n",
       "      <td>&lt;user&gt; &lt;user&gt; &lt;user&gt; President Trump spent his...</td>\n",
       "      <td>0.296290</td>\n",
       "      <td>0.195163</td>\n",
       "      <td>0.276914</td>\n",
       "      <td>0.703710</td>\n",
       "      <td>0.195163</td>\n",
       "      <td>0.723086</td>\n",
       "      <td>1</td>\n",
       "      <td>...</td>\n",
       "      <td>1</td>\n",
       "      <td>0.703710</td>\n",
       "      <td>0.195163</td>\n",
       "      <td>0.723086</td>\n",
       "      <td>True</td>\n",
       "      <td>0.6</td>\n",
       "      <td>0.6</td>\n",
       "      <td>False</td>\n",
       "      <td>0.805419</td>\n",
       "      <td>0.236047</td>\n",
       "    </tr>\n",
       "    <tr>\n",
       "      <th>11</th>\n",
       "      <td>2</td>\n",
       "      <td>679</td>\n",
       "      <td>&lt;user&gt; &lt;user&gt; &lt;user&gt; President Trump spent his...</td>\n",
       "      <td>0.661447</td>\n",
       "      <td>0.112500</td>\n",
       "      <td>0.637540</td>\n",
       "      <td>0.338553</td>\n",
       "      <td>0.112500</td>\n",
       "      <td>0.362460</td>\n",
       "      <td>0</td>\n",
       "      <td>...</td>\n",
       "      <td>1</td>\n",
       "      <td>0.661447</td>\n",
       "      <td>0.112500</td>\n",
       "      <td>0.637540</td>\n",
       "      <td>True</td>\n",
       "      <td>0.6</td>\n",
       "      <td>0.6</td>\n",
       "      <td>True</td>\n",
       "      <td>0.805419</td>\n",
       "      <td>0.236047</td>\n",
       "    </tr>\n",
       "    <tr>\n",
       "      <th>12</th>\n",
       "      <td>7</td>\n",
       "      <td>679</td>\n",
       "      <td>&lt;user&gt; &lt;user&gt; &lt;user&gt; President Trump spent his...</td>\n",
       "      <td>0.252828</td>\n",
       "      <td>0.141591</td>\n",
       "      <td>0.111033</td>\n",
       "      <td>0.747172</td>\n",
       "      <td>0.141591</td>\n",
       "      <td>0.888967</td>\n",
       "      <td>1</td>\n",
       "      <td>...</td>\n",
       "      <td>1</td>\n",
       "      <td>0.747172</td>\n",
       "      <td>0.141591</td>\n",
       "      <td>0.888967</td>\n",
       "      <td>True</td>\n",
       "      <td>0.6</td>\n",
       "      <td>0.6</td>\n",
       "      <td>False</td>\n",
       "      <td>0.805419</td>\n",
       "      <td>0.236047</td>\n",
       "    </tr>\n",
       "    <tr>\n",
       "      <th>13</th>\n",
       "      <td>22</td>\n",
       "      <td>679</td>\n",
       "      <td>&lt;user&gt; &lt;user&gt; &lt;user&gt; President Trump spent his...</td>\n",
       "      <td>0.637383</td>\n",
       "      <td>0.143021</td>\n",
       "      <td>0.733126</td>\n",
       "      <td>0.362617</td>\n",
       "      <td>0.143021</td>\n",
       "      <td>0.266874</td>\n",
       "      <td>1</td>\n",
       "      <td>...</td>\n",
       "      <td>1</td>\n",
       "      <td>0.362617</td>\n",
       "      <td>0.143021</td>\n",
       "      <td>0.266874</td>\n",
       "      <td>False</td>\n",
       "      <td>0.6</td>\n",
       "      <td>0.6</td>\n",
       "      <td>False</td>\n",
       "      <td>0.805419</td>\n",
       "      <td>0.236047</td>\n",
       "    </tr>\n",
       "    <tr>\n",
       "      <th>14</th>\n",
       "      <td>148</td>\n",
       "      <td>679</td>\n",
       "      <td>&lt;user&gt; &lt;user&gt; &lt;user&gt; President Trump spent his...</td>\n",
       "      <td>0.693151</td>\n",
       "      <td>0.083711</td>\n",
       "      <td>0.652475</td>\n",
       "      <td>0.306849</td>\n",
       "      <td>0.083711</td>\n",
       "      <td>0.347525</td>\n",
       "      <td>0</td>\n",
       "      <td>...</td>\n",
       "      <td>1</td>\n",
       "      <td>0.693151</td>\n",
       "      <td>0.083711</td>\n",
       "      <td>0.652475</td>\n",
       "      <td>True</td>\n",
       "      <td>0.6</td>\n",
       "      <td>0.6</td>\n",
       "      <td>True</td>\n",
       "      <td>0.805419</td>\n",
       "      <td>0.236047</td>\n",
       "    </tr>\n",
       "  </tbody>\n",
       "</table>\n",
       "<p>5 rows × 24 columns</p>\n",
       "</div>"
      ],
      "text/plain": [
       "    Aindex  Mindex                                               text  \\\n",
       "10       0     679  <user> <user> <user> President Trump spent his...   \n",
       "11       2     679  <user> <user> <user> President Trump spent his...   \n",
       "12       7     679  <user> <user> <user> President Trump spent his...   \n",
       "13      22     679  <user> <user> <user> President Trump spent his...   \n",
       "14     148     679  <user> <user> <user> President Trump spent his...   \n",
       "\n",
       "    label_0_mean  label_0_std  label_0_last  label_1_mean  label_1_std  \\\n",
       "10      0.296290     0.195163      0.276914      0.703710     0.195163   \n",
       "11      0.661447     0.112500      0.637540      0.338553     0.112500   \n",
       "12      0.252828     0.141591      0.111033      0.747172     0.141591   \n",
       "13      0.637383     0.143021      0.733126      0.362617     0.143021   \n",
       "14      0.693151     0.083711      0.652475      0.306849     0.083711   \n",
       "\n",
       "    label_1_last  label  ...  majority_label confidence variability  \\\n",
       "10      0.723086      1  ...               1   0.703710    0.195163   \n",
       "11      0.362460      0  ...               1   0.661447    0.112500   \n",
       "12      0.888967      1  ...               1   0.747172    0.141591   \n",
       "13      0.266874      1  ...               1   0.362617    0.143021   \n",
       "14      0.347525      0  ...               1   0.693151    0.083711   \n",
       "\n",
       "   correctness  is_correct  agreement_factor  agreement_factor_rd  \\\n",
       "10    0.723086        True               0.6                  0.6   \n",
       "11    0.637540        True               0.6                  0.6   \n",
       "12    0.888967        True               0.6                  0.6   \n",
       "13    0.266874       False               0.6                  0.6   \n",
       "14    0.652475        True               0.6                  0.6   \n",
       "\n",
       "    disagrees_with_majority  majority_confidence  majority_variability  \n",
       "10                    False             0.805419              0.236047  \n",
       "11                     True             0.805419              0.236047  \n",
       "12                    False             0.805419              0.236047  \n",
       "13                    False             0.805419              0.236047  \n",
       "14                     True             0.805419              0.236047  \n",
       "\n",
       "[5 rows x 24 columns]"
      ]
     },
     "execution_count": 3,
     "metadata": {},
     "output_type": "execute_result"
    }
   ],
   "source": [
    "both_votes_df = cartography_df[cartography_df['agreement_factor'] < 1.0].copy()\n",
    "both_votes_df.head()"
   ]
  },
  {
   "cell_type": "code",
   "execution_count": 4,
   "metadata": {},
   "outputs": [
    {
     "data": {
      "text/plain": [
       "8357"
      ]
     },
     "execution_count": 4,
     "metadata": {},
     "output_type": "execute_result"
    }
   ],
   "source": [
    "cartography_df['Mindex'].nunique()"
   ]
  },
  {
   "cell_type": "code",
   "execution_count": 5,
   "metadata": {},
   "outputs": [
    {
     "data": {
      "text/plain": [
       "array([[0.7037100851535797,\n",
       "        '<user> <user> <user> President Trump spent his life working hard to make things great for his Family &amp; gave it up to work hard for ALL AMERICANS. joe-kickback-biden bullshitted his way into public office so he could use his influence to enrich himself &amp; his family at the American tax payers expense!',\n",
       "        0, 1, 1],\n",
       "       [0.6614466428756713,\n",
       "        '<user> <user> <user> President Trump spent his life working hard to make things great for his Family &amp; gave it up to work hard for ALL AMERICANS. joe-kickback-biden bullshitted his way into public office so he could use his influence to enrich himself &amp; his family at the American tax payers expense!',\n",
       "        2, 0, 0],\n",
       "       [0.747172474861145,\n",
       "        '<user> <user> <user> President Trump spent his life working hard to make things great for his Family &amp; gave it up to work hard for ALL AMERICANS. joe-kickback-biden bullshitted his way into public office so he could use his influence to enrich himself &amp; his family at the American tax payers expense!',\n",
       "        7, 1, 1],\n",
       "       [0.3626166969537735,\n",
       "        '<user> <user> <user> President Trump spent his life working hard to make things great for his Family &amp; gave it up to work hard for ALL AMERICANS. joe-kickback-biden bullshitted his way into public office so he could use his influence to enrich himself &amp; his family at the American tax payers expense!',\n",
       "        22, 0, 1],\n",
       "       [0.6931506037712097,\n",
       "        '<user> <user> <user> President Trump spent his life working hard to make things great for his Family &amp; gave it up to work hard for ALL AMERICANS. joe-kickback-biden bullshitted his way into public office so he could use his influence to enrich himself &amp; his family at the American tax payers expense!',\n",
       "        148, 0, 0]], dtype=object)"
      ]
     },
     "execution_count": 5,
     "metadata": {},
     "output_type": "execute_result"
    }
   ],
   "source": [
    "both_votes_df[both_votes_df['Mindex'] == 679][['confidence', 'text', 'Aindex', 'pred', 'label']].values"
   ]
  },
  {
   "cell_type": "code",
   "execution_count": 6,
   "metadata": {},
   "outputs": [
    {
     "data": {
      "text/plain": [
       "array([[0.7037100851535797,\n",
       "        '<user> <user> <user> President Trump spent his life working hard to make things great for his Family &amp; gave it up to work hard for ALL AMERICANS. joe-kickback-biden bullshitted his way into public office so he could use his influence to enrich himself &amp; his family at the American tax payers expense!',\n",
       "        1, 1],\n",
       "       [0.8815631747245789,\n",
       "        '<user> <user> Lol. Y’all’s are probably one of them. Proud Boys are a racist neo nazi dangerous white Supremacist group. I’m done cause it’s obvious you are clueless. Watch their videos and read their quotes.',\n",
       "        1, 1],\n",
       "       [0.3139286592602729,\n",
       "        '<user> #sleepingjoe cry no more 😂😂😂 you so awful😂', 0, 1],\n",
       "       [0.5127638399600982,\n",
       "        '<user> <user> <user> If you classify restraint as calling your opponent a clown a racist and telling him to shut up sure.',\n",
       "        0, 0],\n",
       "       [0.7718652427196503,\n",
       "        'Bye Martha McSally!   I always found her unbelievably smug and spineless!   #Elections2020 #elections #Election2020 #USElection    <url>',\n",
       "        1, 1],\n",
       "       [0.930661118030548,\n",
       "        '<user> <user> <user> f\"***kin green party is costing us here',\n",
       "        1, 1],\n",
       "       [0.6501487135887146,\n",
       "        \"No you lying shrew.  He wants to prevent all ILLEGITIMATE votes from being counted.  That you don't speaks volumes <user>\",\n",
       "        1, 1],\n",
       "       [0.8064947843551635,\n",
       "        '<user> <user> \"The trait that most distinguishes psychopaths is the utter absence of conscience — the capacity to lie, cheat, steal, and inflict pain to achieve their ends without a scintilla of guilt or shame, as ALL DemonRAT POLITICIANS so demonstrably do\".',\n",
       "        1, 1],\n",
       "       [0.6445289731025696,\n",
       "        \"<user> <user> It isn't over til the fat con artist sings\", 1, 1],\n",
       "       [0.7566031694412232, '<user> Joe got his ass kicked on live TV.',\n",
       "        1, 1],\n",
       "       [0.5222520470619202, 'Oh Joe! Who the hell are you huh?', 0, 1],\n",
       "       [0.4240107476711273,\n",
       "        \"<user> <user> They better keep those Sharpies out of Trump's hands or he'll be fudging some numbers.\",\n",
       "        1, 0],\n",
       "       [0.6294202327728271,\n",
       "        '<user> <user> <user> 😂Sure. Okay. Whatever you say. How do you feel about the corruption of the current family in the White House? Or is that fake news?',\n",
       "        1, 1],\n",
       "       [0.8992244005203247,\n",
       "        \"<user> <user> Oh c'mon man ! Stop with the BS !\", 1, 1],\n",
       "       [0.6354966223239898,\n",
       "        '<user> Vote Biden/Harris Vote Blue All The Way. #WhatsAtStake  #CountryOverParty  #FlipTheSenate  #UnfitToBePresident',\n",
       "        0, 0]], dtype=object)"
      ]
     },
     "execution_count": 6,
     "metadata": {},
     "output_type": "execute_result"
    }
   ],
   "source": [
    "both_votes_df[both_votes_df['Aindex'] == 0][['confidence', 'text', 'pred', 'label']].values"
   ]
  },
  {
   "cell_type": "code",
   "execution_count": 7,
   "metadata": {},
   "outputs": [
    {
     "data": {
      "text/html": [
       "<div>\n",
       "<style scoped>\n",
       "    .dataframe tbody tr th:only-of-type {\n",
       "        vertical-align: middle;\n",
       "    }\n",
       "\n",
       "    .dataframe tbody tr th {\n",
       "        vertical-align: top;\n",
       "    }\n",
       "\n",
       "    .dataframe thead th {\n",
       "        text-align: right;\n",
       "    }\n",
       "</style>\n",
       "<table border=\"1\" class=\"dataframe\">\n",
       "  <thead>\n",
       "    <tr style=\"text-align: right;\">\n",
       "      <th>label</th>\n",
       "      <th>Mindex</th>\n",
       "      <th>label_0</th>\n",
       "      <th>label_1</th>\n",
       "    </tr>\n",
       "  </thead>\n",
       "  <tbody>\n",
       "    <tr>\n",
       "      <th>0</th>\n",
       "      <td>2</td>\n",
       "      <td>0.757111</td>\n",
       "      <td>0.020271</td>\n",
       "    </tr>\n",
       "    <tr>\n",
       "      <th>1</th>\n",
       "      <td>5</td>\n",
       "      <td>0.749879</td>\n",
       "      <td>0.541777</td>\n",
       "    </tr>\n",
       "    <tr>\n",
       "      <th>2</th>\n",
       "      <td>8</td>\n",
       "      <td>0.794425</td>\n",
       "      <td>0.177775</td>\n",
       "    </tr>\n",
       "    <tr>\n",
       "      <th>3</th>\n",
       "      <td>13</td>\n",
       "      <td>0.504937</td>\n",
       "      <td>0.745088</td>\n",
       "    </tr>\n",
       "    <tr>\n",
       "      <th>4</th>\n",
       "      <td>15</td>\n",
       "      <td>0.606738</td>\n",
       "      <td>0.557554</td>\n",
       "    </tr>\n",
       "  </tbody>\n",
       "</table>\n",
       "</div>"
      ],
      "text/plain": [
       "label  Mindex   label_0   label_1\n",
       "0           2  0.757111  0.020271\n",
       "1           5  0.749879  0.541777\n",
       "2           8  0.794425  0.177775\n",
       "3          13  0.504937  0.745088\n",
       "4          15  0.606738  0.557554"
      ]
     },
     "execution_count": 7,
     "metadata": {},
     "output_type": "execute_result"
    }
   ],
   "source": [
    "grouped_data_label_base = both_votes_df.groupby(['Mindex', 'label']).agg({'confidence': 'mean'}).reset_index()\n",
    "grouped_data_label = grouped_data_label_base.pivot(index='Mindex', columns='label', values='confidence').reset_index()\n",
    "grouped_data_label.rename(columns={0: 'label_0', 1: 'label_1', 'label': 'index'}, inplace=True)\n",
    "grouped_data_label.head()"
   ]
  },
  {
   "cell_type": "code",
   "execution_count": 8,
   "metadata": {},
   "outputs": [],
   "source": [
    "count_column = both_votes_df.groupby('Mindex').size().reset_index(name='count')\n",
    "majority_confidence_column = cartography_df[['Mindex', 'majority_confidence']].groupby('Mindex').agg('first')\n",
    "grouped_data_label = grouped_data_label.merge(majority_confidence_column, on='Mindex')\n",
    "grouped_data_label = grouped_data_label.merge(count_column, on='Mindex')"
   ]
  },
  {
   "cell_type": "code",
   "execution_count": 9,
   "metadata": {},
   "outputs": [
    {
     "name": "stdout",
     "output_type": "stream",
     "text": [
      "<class 'pandas.core.frame.DataFrame'>\n",
      "Int64Index: 4857 entries, 0 to 4856\n",
      "Data columns (total 5 columns):\n",
      " #   Column               Non-Null Count  Dtype  \n",
      "---  ------               --------------  -----  \n",
      " 0   Mindex               4857 non-null   int64  \n",
      " 1   label_0              4857 non-null   float64\n",
      " 2   label_1              4857 non-null   float64\n",
      " 3   majority_confidence  4857 non-null   float64\n",
      " 4   count                4857 non-null   int64  \n",
      "dtypes: float64(3), int64(2)\n",
      "memory usage: 227.7 KB\n"
     ]
    }
   ],
   "source": [
    "grouped_data_label.info()"
   ]
  },
  {
   "cell_type": "code",
   "execution_count": 10,
   "metadata": {},
   "outputs": [
    {
     "data": {
      "text/html": [
       "<div>\n",
       "<style scoped>\n",
       "    .dataframe tbody tr th:only-of-type {\n",
       "        vertical-align: middle;\n",
       "    }\n",
       "\n",
       "    .dataframe tbody tr th {\n",
       "        vertical-align: top;\n",
       "    }\n",
       "\n",
       "    .dataframe thead th {\n",
       "        text-align: right;\n",
       "    }\n",
       "</style>\n",
       "<table border=\"1\" class=\"dataframe\">\n",
       "  <thead>\n",
       "    <tr style=\"text-align: right;\">\n",
       "      <th></th>\n",
       "      <th>Mindex</th>\n",
       "      <th>label_0</th>\n",
       "      <th>label_1</th>\n",
       "      <th>majority_confidence</th>\n",
       "      <th>count</th>\n",
       "    </tr>\n",
       "  </thead>\n",
       "  <tbody>\n",
       "    <tr>\n",
       "      <th>0</th>\n",
       "      <td>2</td>\n",
       "      <td>0.757111</td>\n",
       "      <td>0.020271</td>\n",
       "      <td>0.910781</td>\n",
       "      <td>5</td>\n",
       "    </tr>\n",
       "    <tr>\n",
       "      <th>1</th>\n",
       "      <td>5</td>\n",
       "      <td>0.749879</td>\n",
       "      <td>0.541777</td>\n",
       "      <td>0.634483</td>\n",
       "      <td>5</td>\n",
       "    </tr>\n",
       "    <tr>\n",
       "      <th>2</th>\n",
       "      <td>8</td>\n",
       "      <td>0.794425</td>\n",
       "      <td>0.177775</td>\n",
       "      <td>0.928253</td>\n",
       "      <td>5</td>\n",
       "    </tr>\n",
       "    <tr>\n",
       "      <th>3</th>\n",
       "      <td>13</td>\n",
       "      <td>0.504937</td>\n",
       "      <td>0.745088</td>\n",
       "      <td>0.677012</td>\n",
       "      <td>5</td>\n",
       "    </tr>\n",
       "    <tr>\n",
       "      <th>4</th>\n",
       "      <td>15</td>\n",
       "      <td>0.606738</td>\n",
       "      <td>0.557554</td>\n",
       "      <td>0.743063</td>\n",
       "      <td>5</td>\n",
       "    </tr>\n",
       "  </tbody>\n",
       "</table>\n",
       "</div>"
      ],
      "text/plain": [
       "   Mindex   label_0   label_1  majority_confidence  count\n",
       "0       2  0.757111  0.020271             0.910781      5\n",
       "1       5  0.749879  0.541777             0.634483      5\n",
       "2       8  0.794425  0.177775             0.928253      5\n",
       "3      13  0.504937  0.745088             0.677012      5\n",
       "4      15  0.606738  0.557554             0.743063      5"
      ]
     },
     "execution_count": 10,
     "metadata": {},
     "output_type": "execute_result"
    }
   ],
   "source": [
    "grouped_data_label.head()"
   ]
  },
  {
   "cell_type": "code",
   "execution_count": 11,
   "metadata": {},
   "outputs": [],
   "source": [
    "both_mindex_values = grouped_data_label[(grouped_data_label['label_0'] > 0.5) & (grouped_data_label['label_1'] > 0.5)]['Mindex'].values\n",
    "only_0_mindex_values = grouped_data_label[(grouped_data_label['label_0'] > 0.5) & (grouped_data_label['label_1'] <= 0.5)]['Mindex'].values\n",
    "only_1_mindex_values = grouped_data_label[(grouped_data_label['label_0'] <= 0.5) & (grouped_data_label['label_1'] > 0.5)]['Mindex'].values\n",
    "none_mindex_values = grouped_data_label[(grouped_data_label['label_0'] <= 0.5) & (grouped_data_label['label_1'] <= 0.5)]['Mindex'].values\n",
    "\n",
    "grouped_data_label['group'] = 0\n",
    "grouped_data_label.loc[grouped_data_label['Mindex'].isin(both_mindex_values), 'group'] = 'All Labels > 0.5'\n",
    "grouped_data_label.loc[grouped_data_label['Mindex'].isin(only_0_mindex_values), 'group'] = '1 Label > 0.5'\n",
    "grouped_data_label.loc[grouped_data_label['Mindex'].isin(only_1_mindex_values), 'group'] = '1 Label > 0.5'\n",
    "grouped_data_label.loc[grouped_data_label['Mindex'].isin(none_mindex_values), 'group'] = '0 Labels > 0.5'"
   ]
  },
  {
   "cell_type": "code",
   "execution_count": 12,
   "metadata": {},
   "outputs": [
    {
     "data": {
      "text/plain": [
       "<Axes: xlabel='group', ylabel='count'>"
      ]
     },
     "execution_count": 12,
     "metadata": {},
     "output_type": "execute_result"
    },
    {
     "data": {
      "image/png": "[encoded data removed]",
      "text/plain": [
       "<Figure size 640x480 with 1 Axes>"
      ]
     },
     "metadata": {},
     "output_type": "display_data"
    }
   ],
   "source": [
    "temp_df = grouped_data_label[grouped_data_label['majority_confidence']> 0.9]\n",
    "sns.countplot(x=temp_df['group'], order=temp_df['group'].value_counts().index)"
   ]
  },
  {
   "cell_type": "code",
   "execution_count": 13,
   "metadata": {},
   "outputs": [
    {
     "data": {
      "text/html": [
       "<div>\n",
       "<style scoped>\n",
       "    .dataframe tbody tr th:only-of-type {\n",
       "        vertical-align: middle;\n",
       "    }\n",
       "\n",
       "    .dataframe tbody tr th {\n",
       "        vertical-align: top;\n",
       "    }\n",
       "\n",
       "    .dataframe thead th {\n",
       "        text-align: right;\n",
       "    }\n",
       "</style>\n",
       "<table border=\"1\" class=\"dataframe\">\n",
       "  <thead>\n",
       "    <tr style=\"text-align: right;\">\n",
       "      <th></th>\n",
       "      <th>Mindex</th>\n",
       "      <th>label</th>\n",
       "      <th>confidence</th>\n",
       "    </tr>\n",
       "  </thead>\n",
       "  <tbody>\n",
       "    <tr>\n",
       "      <th>0</th>\n",
       "      <td>2</td>\n",
       "      <td>0</td>\n",
       "      <td>0.757111</td>\n",
       "    </tr>\n",
       "    <tr>\n",
       "      <th>1</th>\n",
       "      <td>2</td>\n",
       "      <td>1</td>\n",
       "      <td>0.020271</td>\n",
       "    </tr>\n",
       "    <tr>\n",
       "      <th>2</th>\n",
       "      <td>5</td>\n",
       "      <td>0</td>\n",
       "      <td>0.749879</td>\n",
       "    </tr>\n",
       "    <tr>\n",
       "      <th>3</th>\n",
       "      <td>5</td>\n",
       "      <td>1</td>\n",
       "      <td>0.541777</td>\n",
       "    </tr>\n",
       "    <tr>\n",
       "      <th>4</th>\n",
       "      <td>8</td>\n",
       "      <td>0</td>\n",
       "      <td>0.794425</td>\n",
       "    </tr>\n",
       "  </tbody>\n",
       "</table>\n",
       "</div>"
      ],
      "text/plain": [
       "   Mindex  label  confidence\n",
       "0       2      0    0.757111\n",
       "1       2      1    0.020271\n",
       "2       5      0    0.749879\n",
       "3       5      1    0.541777\n",
       "4       8      0    0.794425"
      ]
     },
     "execution_count": 13,
     "metadata": {},
     "output_type": "execute_result"
    }
   ],
   "source": [
    "grouped_data_label_base.head()"
   ]
  },
  {
   "cell_type": "code",
   "execution_count": 14,
   "metadata": {},
   "outputs": [
    {
     "data": {
      "text/plain": [
       "array([], dtype=int64)"
      ]
     },
     "execution_count": 14,
     "metadata": {},
     "output_type": "execute_result"
    }
   ],
   "source": [
    "grouped_data_label[grouped_data_label['group'] == 'none_greater']['Mindex'].unique()"
   ]
  },
  {
   "cell_type": "code",
   "execution_count": null,
   "metadata": {},
   "outputs": [],
   "source": []
  },
  {
   "cell_type": "markdown",
   "metadata": {},
   "source": [
    "# Final plotting"
   ]
  },
  {
   "cell_type": "code",
   "execution_count": 98,
   "metadata": {},
   "outputs": [
    {
     "data": {
      "image/png": "[encoded data removed]",
      "text/plain": [
       "<Figure size 640x480 with 1 Axes>"
      ]
     },
     "metadata": {},
     "output_type": "display_data"
    }
   ],
   "source": [
    "ax = sns.countplot(x=grouped_data_label['group'], order=['All Labels > 0.5', '1 Label > 0.5', '0 Labels > 0.5'])\n",
    "ax.grid(False)\n",
    "\n",
    "# plt.title('Confidence of Samples with Disagreement in Label', fontsize=14)\n",
    "plt.gca().set_ylabel(str(plt.gca().get_ylabel()).capitalize(), fontsize=16)\n",
    "plt.gca().set_xlabel('Confidence', fontsize=16)\n",
    "\n",
    "plt.yticks(fontsize=14)\n",
    "\n",
    "plt.xticks([0, 1, 2], [r'All Labels \\textgreater \\ 0.5', r'1 Label \\textgreater \\ 0.5', r'0 Labels \\textgreater \\ 0.5'], fontsize=14, rotation=15)\n",
    "\n",
    "total = grouped_data_label[\"group\"].value_counts().sum()  # Total number of data points\n",
    "for p in ax.patches:\n",
    "    percentage = '{:.1f}\\%'.format(100 * p.get_height() / total)\n",
    "    x = p.get_x() + p.get_width() / 2\n",
    "    y = p.get_height() + 20  # Adjust the vertical position of the label\n",
    "    ax.text(x, y, percentage, ha=\"center\", fontsize=14)\n",
    "\n",
    "plt.savefig(\"./plots/disco/ag2disagree_group_count.pdf\", dpi=600, bbox_inches='tight')"
   ]
  },
  {
   "cell_type": "code",
   "execution_count": 20,
   "metadata": {},
   "outputs": [],
   "source": [
    "cartography_df['label_text'] = cartography_df['label'].map({0: 'not offensive', 1: 'offensive'})"
   ]
  },
  {
   "cell_type": "code",
   "execution_count": 62,
   "metadata": {},
   "outputs": [
    {
     "name": "stdout",
     "output_type": "stream",
     "text": [
      "p-value annotation legend:\n",
      "      ns: 5.00e-02 < p <= 1.00e+00\n",
      "       *: 1.00e-02 < p <= 5.00e-02\n",
      "      **: 1.00e-03 < p <= 1.00e-02\n",
      "     ***: 1.00e-04 < p <= 1.00e-03\n",
      "    ****: p <= 1.00e-04\n",
      "\n",
      "False vs. True: Mann-Whitney-Wilcoxon test two-sided, P_val:0.000e+00 U_stat=2.001e+08\n"
     ]
    },
    {
     "data": {
      "image/png": "[encoded data removed]",
      "text/plain": [
       "<Figure size 640x480 with 1 Axes>"
      ]
     },
     "metadata": {},
     "output_type": "display_data"
    }
   ],
   "source": [
    "ax = sns.boxplot(data=cartography_df, x=\"disagrees_with_majority\", y=\"confidence\", showfliers=False)\n",
    "\n",
    "pairs=[ (False, True)]\n",
    "\n",
    "\n",
    "annotator = Annotator(ax, pairs, data=cartography_df, x=\"disagrees_with_majority\", y=\"confidence\")\n",
    "annotator.configure(test='Mann-Whitney', text_format='star')\n",
    "annotator.apply_and_annotate()\n",
    "\n",
    "# plt.title('Samples with low confidence (<0.5) in Single-GL model', fontsize=16)\n",
    "plt.xticks([0, 1], [r'$y_{n,m} = \\bar{{y}}_{.,m}$', r'$y_{n,m} \\neq \\bar{{y}}_{.,m}$'], fontsize=14)\n",
    "\n",
    "ax.grid(False)\n",
    "\n",
    "plt.gca().set_ylabel(str(plt.gca().get_ylabel()).capitalize(), fontsize=14)\n",
    "plt.gca().set_xlabel(r\"Annotation $y_{n,m}$ compared to majority vote $\\bar{{y}}_{.,m}$\", fontsize=16)\n",
    "plt.xticks(fontsize=14)\n",
    "plt.yticks(fontsize=14)\n",
    "plt.savefig(\"./plots/disco/ag2disagree_disagree_vs_conf.pdf\", dpi=600, bbox_inches='tight')"
   ]
  },
  {
   "cell_type": "code",
   "execution_count": 65,
   "metadata": {},
   "outputs": [
    {
     "name": "stdout",
     "output_type": "stream",
     "text": [
      "p-value annotation legend:\n",
      "      ns: 5.00e-02 < p <= 1.00e+00\n",
      "       *: 1.00e-02 < p <= 5.00e-02\n",
      "      **: 1.00e-03 < p <= 1.00e-02\n",
      "     ***: 1.00e-04 < p <= 1.00e-03\n",
      "    ****: p <= 1.00e-04\n",
      "\n",
      "0.6 vs. 0.8: Mann-Whitney-Wilcoxon test two-sided, P_val:8.928e-125 U_stat=6.073e+07\n",
      "0.8 vs. 1.0: Mann-Whitney-Wilcoxon test two-sided, P_val:0.000e+00 U_stat=5.069e+07\n",
      "0.6 vs. 1.0: Mann-Whitney-Wilcoxon test two-sided, P_val:0.000e+00 U_stat=3.459e+07\n"
     ]
    },
    {
     "data": {
      "image/png": "[encoded data removed]",
      "text/plain": [
       "<Figure size 640x480 with 1 Axes>"
      ]
     },
     "metadata": {},
     "output_type": "display_data"
    }
   ],
   "source": [
    "ax = sns.boxplot(data=cartography_df, x=\"agreement_factor_rd\", y=\"confidence\", showfliers=False)\n",
    "\n",
    "\n",
    "pairs=[ (0.6, 1.0), (0.6, 0.8), (0.8, 1.0)]\n",
    "\n",
    "\n",
    "annotator = Annotator(ax, pairs, data=cartography_df, x=\"agreement_factor_rd\", y=\"confidence\")\n",
    "annotator.configure(test='Mann-Whitney', text_format='star')\n",
    "annotator.apply_and_annotate()\n",
    "ax.grid(False)\n",
    "plt.gca().set_ylabel(str(plt.gca().get_ylabel()).capitalize(), fontsize=16)\n",
    "plt.gca().set_xlabel('Annotator Agreement Level', fontsize=16)\n",
    "plt.xticks(fontsize=14)\n",
    "plt.yticks(fontsize=14)\n",
    "# plt.legend(title = 'Label', loc='lower right')\n",
    "plt.savefig(\"./plots/disco/ag2disagree_agr_factor_vs_conf.pdf\", dpi=600, bbox_inches='tight')"
   ]
  },
  {
   "cell_type": "code",
   "execution_count": 63,
   "metadata": {},
   "outputs": [
    {
     "name": "stdout",
     "output_type": "stream",
     "text": [
      "p-value annotation legend:\n",
      "      ns: 5.00e-02 < p <= 1.00e+00\n",
      "       *: 1.00e-02 < p <= 5.00e-02\n",
      "      **: 1.00e-03 < p <= 1.00e-02\n",
      "     ***: 1.00e-04 < p <= 1.00e-03\n",
      "    ****: p <= 1.00e-04\n",
      "\n",
      "False vs. True: Mann-Whitney-Wilcoxon test two-sided, P_val:0.000e+00 U_stat=2.001e+08\n"
     ]
    },
    {
     "data": {
      "image/png": "[encoded data removed]",
      "text/plain": [
       "<Figure size 640x480 with 1 Axes>"
      ]
     },
     "metadata": {},
     "output_type": "display_data"
    }
   ],
   "source": [
    "ax = sns.boxplot(data=cartography_df[cartography_df['majority_confidence']<0.5], x=\"disagrees_with_majority\", y=\"confidence\", showfliers=False)\n",
    "\n",
    "pairs=[ (False, True)]\n",
    "\n",
    "\n",
    "annotator = Annotator(ax, pairs, data=cartography_df, x=\"disagrees_with_majority\", y=\"confidence\")\n",
    "annotator.configure(test='Mann-Whitney', text_format='star')\n",
    "annotator.apply_and_annotate()\n",
    "\n",
    "# plt.title('Samples with low confidence (<0.5) in Single-GL model', fontsize=16)\n",
    "plt.xticks([0, 1], [r'$y_{n,m} = \\bar{{y}}_{.,m}$', r'$y_{n,m} \\neq \\bar{{y}}_{.,m}$'], fontsize=14)\n",
    "\n",
    "ax.grid(False)\n",
    "\n",
    "plt.gca().set_ylabel(str(plt.gca().get_ylabel()).capitalize(), fontsize=14)\n",
    "plt.gca().set_xlabel(r\"Annotation $y_{n,m}$ compared to majority vote $\\bar{{y}}_{.,m}$\", fontsize=16)\n",
    "plt.xticks(fontsize=14)\n",
    "plt.yticks(fontsize=14)\n",
    "plt.savefig(\"./plots/disco/ag2disagree_low_conf_mjr_disagree_vs_conf.pdf\", dpi=600, bbox_inches='tight')"
   ]
  },
  {
   "cell_type": "code",
   "execution_count": 4,
   "metadata": {},
   "outputs": [
    {
     "data": {
      "text/plain": [
       "PearsonRResult(statistic=0.4646721787900789, pvalue=0.0)"
      ]
     },
     "execution_count": 4,
     "metadata": {},
     "output_type": "execute_result"
    }
   ],
   "source": [
    "from scipy.stats import pearsonr\n",
    "\n",
    "pearsonr(cartography_df['confidence'], cartography_df['agreement_factor_rd'])"
   ]
  },
  {
   "cell_type": "code",
   "execution_count": 6,
   "metadata": {},
   "outputs": [
    {
     "data": {
      "text/plain": [
       "array([[7540,\n",
       "        '<user> <user> I see a lot of proud violent screaming leftists and liberals in black face passing racially motivated crime bills. YOU AINT BLACK. Biden should be condemning his supporters.',\n",
       "        1, 0],\n",
       "       [687,\n",
       "        '<user> IM LEAVING AMERICA! SCREW THIS COUNTRY! I’m moving to Mexico where they actually run a civilised and balanced nation for its people.',\n",
       "        0, 1],\n",
       "       [3295, 'Ahahahaha. Always someone profiting off shit', 0, 0],\n",
       "       [3295, 'Ahahahaha. Always someone profiting off shit', 0, 0],\n",
       "       [3328,\n",
       "        'Imagine voting for Trump 🤡 #TrumpVsBiden2020 #JoeBiden #Trump #Elections2020',\n",
       "        1, 1],\n",
       "       [6391,\n",
       "        '<user> <user> <user> To whom it may concern,  Due to your #unscientific #MandatoryMask rule, I will no longer be shopping at #WalMart ever again.  I have not &amp; WILL not wear a mask!  #BoycottWalMart  #MandatoryMaskRuleFarce  <url>',\n",
       "        1, 1],\n",
       "       [7039,\n",
       "        '<user> <user> morally weak how? trump couldnt even denounce white supremacy and you are worried about antifa and those that act based on the right reasons in the WRONG ways. joe said that the violence is WRONG but antifa in general is not bad. now the kkk?',\n",
       "        1, 1],\n",
       "       [30, '<user> <user> <user> You’re a buffoon', 0, 0],\n",
       "       [6415, 'Nobody commits Suicide in public. This man was lynched.',\n",
       "        1, 1],\n",
       "       [6415, 'Nobody commits Suicide in public. This man was lynched.',\n",
       "        1, 1]], dtype=object)"
      ]
     },
     "execution_count": 6,
     "metadata": {},
     "output_type": "execute_result"
    }
   ],
   "source": [
    "cartography_df[(cartography_df['confidence'] < 0.2) & (cartography_df['majority_confidence'] < 0.2)][['Mindex', 'text', 'label', 'majority_label']].values[:10]"
   ]
  },
  {
   "cell_type": "code",
   "execution_count": 7,
   "metadata": {},
   "outputs": [
    {
     "data": {
      "text/html": [
       "<div>\n",
       "<style scoped>\n",
       "    .dataframe tbody tr th:only-of-type {\n",
       "        vertical-align: middle;\n",
       "    }\n",
       "\n",
       "    .dataframe tbody tr th {\n",
       "        vertical-align: top;\n",
       "    }\n",
       "\n",
       "    .dataframe thead th {\n",
       "        text-align: right;\n",
       "    }\n",
       "</style>\n",
       "<table border=\"1\" class=\"dataframe\">\n",
       "  <thead>\n",
       "    <tr style=\"text-align: right;\">\n",
       "      <th></th>\n",
       "      <th>Aindex</th>\n",
       "      <th>Mindex</th>\n",
       "      <th>text</th>\n",
       "      <th>label_0_mean</th>\n",
       "      <th>label_0_std</th>\n",
       "      <th>label_0_last</th>\n",
       "      <th>label_1_mean</th>\n",
       "      <th>label_1_std</th>\n",
       "      <th>label_1_last</th>\n",
       "      <th>label</th>\n",
       "      <th>...</th>\n",
       "      <th>majority_label</th>\n",
       "      <th>confidence</th>\n",
       "      <th>variability</th>\n",
       "      <th>correctness</th>\n",
       "      <th>is_correct</th>\n",
       "      <th>agreement_factor</th>\n",
       "      <th>agreement_factor_rd</th>\n",
       "      <th>disagrees_with_majority</th>\n",
       "      <th>majority_confidence</th>\n",
       "      <th>majority_variability</th>\n",
       "    </tr>\n",
       "  </thead>\n",
       "  <tbody>\n",
       "    <tr>\n",
       "      <th>5875</th>\n",
       "      <td>2</td>\n",
       "      <td>7540</td>\n",
       "      <td>&lt;user&gt; &lt;user&gt; I see a lot of proud violent scr...</td>\n",
       "      <td>0.592491</td>\n",
       "      <td>0.174001</td>\n",
       "      <td>0.786536</td>\n",
       "      <td>0.407509</td>\n",
       "      <td>0.174001</td>\n",
       "      <td>0.213463</td>\n",
       "      <td>0</td>\n",
       "      <td>...</td>\n",
       "      <td>0</td>\n",
       "      <td>0.592491</td>\n",
       "      <td>0.174001</td>\n",
       "      <td>0.786536</td>\n",
       "      <td>True</td>\n",
       "      <td>0.6</td>\n",
       "      <td>0.6</td>\n",
       "      <td>False</td>\n",
       "      <td>0.194391</td>\n",
       "      <td>0.145072</td>\n",
       "    </tr>\n",
       "    <tr>\n",
       "      <th>5876</th>\n",
       "      <td>75</td>\n",
       "      <td>7540</td>\n",
       "      <td>&lt;user&gt; &lt;user&gt; I see a lot of proud violent scr...</td>\n",
       "      <td>0.668753</td>\n",
       "      <td>0.136192</td>\n",
       "      <td>0.737021</td>\n",
       "      <td>0.331247</td>\n",
       "      <td>0.136192</td>\n",
       "      <td>0.262979</td>\n",
       "      <td>1</td>\n",
       "      <td>...</td>\n",
       "      <td>0</td>\n",
       "      <td>0.331247</td>\n",
       "      <td>0.136192</td>\n",
       "      <td>0.262979</td>\n",
       "      <td>False</td>\n",
       "      <td>0.6</td>\n",
       "      <td>0.6</td>\n",
       "      <td>True</td>\n",
       "      <td>0.194391</td>\n",
       "      <td>0.145072</td>\n",
       "    </tr>\n",
       "    <tr>\n",
       "      <th>5877</th>\n",
       "      <td>125</td>\n",
       "      <td>7540</td>\n",
       "      <td>&lt;user&gt; &lt;user&gt; I see a lot of proud violent scr...</td>\n",
       "      <td>0.824818</td>\n",
       "      <td>0.056430</td>\n",
       "      <td>0.895264</td>\n",
       "      <td>0.175182</td>\n",
       "      <td>0.056430</td>\n",
       "      <td>0.104736</td>\n",
       "      <td>1</td>\n",
       "      <td>...</td>\n",
       "      <td>0</td>\n",
       "      <td>0.175182</td>\n",
       "      <td>0.056430</td>\n",
       "      <td>0.104736</td>\n",
       "      <td>False</td>\n",
       "      <td>0.6</td>\n",
       "      <td>0.6</td>\n",
       "      <td>True</td>\n",
       "      <td>0.194391</td>\n",
       "      <td>0.145072</td>\n",
       "    </tr>\n",
       "    <tr>\n",
       "      <th>5878</th>\n",
       "      <td>186</td>\n",
       "      <td>7540</td>\n",
       "      <td>&lt;user&gt; &lt;user&gt; I see a lot of proud violent scr...</td>\n",
       "      <td>0.350184</td>\n",
       "      <td>0.195773</td>\n",
       "      <td>0.417642</td>\n",
       "      <td>0.649816</td>\n",
       "      <td>0.195773</td>\n",
       "      <td>0.582358</td>\n",
       "      <td>0</td>\n",
       "      <td>...</td>\n",
       "      <td>0</td>\n",
       "      <td>0.350184</td>\n",
       "      <td>0.195773</td>\n",
       "      <td>0.417642</td>\n",
       "      <td>False</td>\n",
       "      <td>0.6</td>\n",
       "      <td>0.6</td>\n",
       "      <td>False</td>\n",
       "      <td>0.194391</td>\n",
       "      <td>0.145072</td>\n",
       "    </tr>\n",
       "    <tr>\n",
       "      <th>5879</th>\n",
       "      <td>227</td>\n",
       "      <td>7540</td>\n",
       "      <td>&lt;user&gt; &lt;user&gt; I see a lot of proud violent scr...</td>\n",
       "      <td>0.602725</td>\n",
       "      <td>0.135955</td>\n",
       "      <td>0.536900</td>\n",
       "      <td>0.397275</td>\n",
       "      <td>0.135955</td>\n",
       "      <td>0.463100</td>\n",
       "      <td>0</td>\n",
       "      <td>...</td>\n",
       "      <td>0</td>\n",
       "      <td>0.602725</td>\n",
       "      <td>0.135955</td>\n",
       "      <td>0.536900</td>\n",
       "      <td>True</td>\n",
       "      <td>0.6</td>\n",
       "      <td>0.6</td>\n",
       "      <td>False</td>\n",
       "      <td>0.194391</td>\n",
       "      <td>0.145072</td>\n",
       "    </tr>\n",
       "  </tbody>\n",
       "</table>\n",
       "<p>5 rows × 24 columns</p>\n",
       "</div>"
      ],
      "text/plain": [
       "      Aindex  Mindex                                               text  \\\n",
       "5875       2    7540  <user> <user> I see a lot of proud violent scr...   \n",
       "5876      75    7540  <user> <user> I see a lot of proud violent scr...   \n",
       "5877     125    7540  <user> <user> I see a lot of proud violent scr...   \n",
       "5878     186    7540  <user> <user> I see a lot of proud violent scr...   \n",
       "5879     227    7540  <user> <user> I see a lot of proud violent scr...   \n",
       "\n",
       "      label_0_mean  label_0_std  label_0_last  label_1_mean  label_1_std  \\\n",
       "5875      0.592491     0.174001      0.786536      0.407509     0.174001   \n",
       "5876      0.668753     0.136192      0.737021      0.331247     0.136192   \n",
       "5877      0.824818     0.056430      0.895264      0.175182     0.056430   \n",
       "5878      0.350184     0.195773      0.417642      0.649816     0.195773   \n",
       "5879      0.602725     0.135955      0.536900      0.397275     0.135955   \n",
       "\n",
       "      label_1_last  label  ...  majority_label confidence variability  \\\n",
       "5875      0.213463      0  ...               0   0.592491    0.174001   \n",
       "5876      0.262979      1  ...               0   0.331247    0.136192   \n",
       "5877      0.104736      1  ...               0   0.175182    0.056430   \n",
       "5878      0.582358      0  ...               0   0.350184    0.195773   \n",
       "5879      0.463100      0  ...               0   0.602725    0.135955   \n",
       "\n",
       "     correctness  is_correct  agreement_factor  agreement_factor_rd  \\\n",
       "5875    0.786536        True               0.6                  0.6   \n",
       "5876    0.262979       False               0.6                  0.6   \n",
       "5877    0.104736       False               0.6                  0.6   \n",
       "5878    0.417642       False               0.6                  0.6   \n",
       "5879    0.536900        True               0.6                  0.6   \n",
       "\n",
       "      disagrees_with_majority  majority_confidence  majority_variability  \n",
       "5875                    False             0.194391              0.145072  \n",
       "5876                     True             0.194391              0.145072  \n",
       "5877                     True             0.194391              0.145072  \n",
       "5878                    False             0.194391              0.145072  \n",
       "5879                    False             0.194391              0.145072  \n",
       "\n",
       "[5 rows x 24 columns]"
      ]
     },
     "execution_count": 7,
     "metadata": {},
     "output_type": "execute_result"
    }
   ],
   "source": [
    "cartography_df[cartography_df['Mindex'] == 7540]"
   ]
  },
  {
   "cell_type": "code",
   "execution_count": 9,
   "metadata": {},
   "outputs": [
    {
     "name": "stdout",
     "output_type": "stream",
     "text": [
      "<class 'pandas.core.frame.DataFrame'>\n",
      "Int64Index: 428 entries, 2383 to 40065\n",
      "Data columns (total 24 columns):\n",
      " #   Column                   Non-Null Count  Dtype  \n",
      "---  ------                   --------------  -----  \n",
      " 0   Aindex                   428 non-null    int64  \n",
      " 1   Mindex                   428 non-null    int64  \n",
      " 2   text                     428 non-null    object \n",
      " 3   label_0_mean             428 non-null    float64\n",
      " 4   label_0_std              428 non-null    float64\n",
      " 5   label_0_last             428 non-null    float64\n",
      " 6   label_1_mean             428 non-null    float64\n",
      " 7   label_1_std              428 non-null    float64\n",
      " 8   label_1_last             428 non-null    float64\n",
      " 9   label                    428 non-null    int64  \n",
      " 10  pred                     428 non-null    int64  \n",
      " 11  agreement_level          428 non-null    object \n",
      " 12  annotator_id             428 non-null    object \n",
      " 13  comment_id               428 non-null    object \n",
      " 14  majority_label           428 non-null    int64  \n",
      " 15  confidence               428 non-null    float64\n",
      " 16  variability              428 non-null    float64\n",
      " 17  correctness              428 non-null    float64\n",
      " 18  is_correct               428 non-null    bool   \n",
      " 19  agreement_factor         428 non-null    float64\n",
      " 20  agreement_factor_rd      428 non-null    float64\n",
      " 21  disagrees_with_majority  428 non-null    bool   \n",
      " 22  majority_confidence      428 non-null    float64\n",
      " 23  majority_variability     428 non-null    float64\n",
      "dtypes: bool(2), float64(13), int64(5), object(4)\n",
      "memory usage: 77.7+ KB\n"
     ]
    }
   ],
   "source": [
    "cartography_df[cartography_df['Aindex']==125].info()"
   ]
  },
  {
   "cell_type": "code",
   "execution_count": 10,
   "metadata": {},
   "outputs": [
    {
     "data": {
      "text/plain": [
       "0    352\n",
       "1     76\n",
       "Name: label, dtype: int64"
      ]
     },
     "execution_count": 10,
     "metadata": {},
     "output_type": "execute_result"
    }
   ],
   "source": [
    "cartography_df[cartography_df['Aindex']==125]['label'].value_counts()"
   ]
  },
  {
   "cell_type": "code",
   "execution_count": 12,
   "metadata": {},
   "outputs": [
    {
     "data": {
      "text/plain": [
       "<Axes: >"
      ]
     },
     "execution_count": 12,
     "metadata": {},
     "output_type": "execute_result"
    },
    {
     "data": {
      "image/png": "[encoded data removed]",
      "text/plain": [
       "<Figure size 640x480 with 1 Axes>"
      ]
     },
     "metadata": {},
     "output_type": "display_data"
    }
   ],
   "source": [
    "cartography_df[(cartography_df['Aindex']==125) & (cartography_df['label']==0)]['confidence'].hist()"
   ]
  },
  {
   "cell_type": "code",
   "execution_count": 13,
   "metadata": {},
   "outputs": [
    {
     "data": {
      "text/plain": [
       "<Axes: >"
      ]
     },
     "execution_count": 13,
     "metadata": {},
     "output_type": "execute_result"
    },
    {
     "data": {
      "image/png": "[encoded data removed]",
      "text/plain": [
       "<Figure size 640x480 with 1 Axes>"
      ]
     },
     "metadata": {},
     "output_type": "display_data"
    }
   ],
   "source": [
    "cartography_df[(cartography_df['Aindex']==125) & (cartography_df['label']==1)]['confidence'].hist()"
   ]
  },
  {
   "cell_type": "code",
   "execution_count": 39,
   "metadata": {},
   "outputs": [
    {
     "data": {
      "text/html": [
       "<div>\n",
       "<style scoped>\n",
       "    .dataframe tbody tr th:only-of-type {\n",
       "        vertical-align: middle;\n",
       "    }\n",
       "\n",
       "    .dataframe tbody tr th {\n",
       "        vertical-align: top;\n",
       "    }\n",
       "\n",
       "    .dataframe thead th {\n",
       "        text-align: right;\n",
       "    }\n",
       "</style>\n",
       "<table border=\"1\" class=\"dataframe\">\n",
       "  <thead>\n",
       "    <tr style=\"text-align: right;\">\n",
       "      <th></th>\n",
       "      <th>confidence</th>\n",
       "      <th>majority_confidence</th>\n",
       "    </tr>\n",
       "    <tr>\n",
       "      <th>Mindex</th>\n",
       "      <th></th>\n",
       "      <th></th>\n",
       "    </tr>\n",
       "  </thead>\n",
       "  <tbody>\n",
       "    <tr>\n",
       "      <th>2</th>\n",
       "      <td>0.932431</td>\n",
       "      <td>0.910781</td>\n",
       "    </tr>\n",
       "    <tr>\n",
       "      <th>3</th>\n",
       "      <td>0.978702</td>\n",
       "      <td>0.964216</td>\n",
       "    </tr>\n",
       "    <tr>\n",
       "      <th>5</th>\n",
       "      <td>0.805465</td>\n",
       "      <td>0.634483</td>\n",
       "    </tr>\n",
       "    <tr>\n",
       "      <th>6</th>\n",
       "      <td>0.934685</td>\n",
       "      <td>0.948924</td>\n",
       "    </tr>\n",
       "    <tr>\n",
       "      <th>7</th>\n",
       "      <td>0.958109</td>\n",
       "      <td>0.975536</td>\n",
       "    </tr>\n",
       "  </tbody>\n",
       "</table>\n",
       "</div>"
      ],
      "text/plain": [
       "        confidence  majority_confidence\n",
       "Mindex                                 \n",
       "2         0.932431             0.910781\n",
       "3         0.978702             0.964216\n",
       "5         0.805465             0.634483\n",
       "6         0.934685             0.948924\n",
       "7         0.958109             0.975536"
      ]
     },
     "execution_count": 39,
     "metadata": {},
     "output_type": "execute_result"
    }
   ],
   "source": [
    "max_conf_df = cartography_df.groupby('Mindex').agg({'confidence': 'max', 'majority_confidence': 'first'})\n",
    "max_conf_df.head()"
   ]
  },
  {
   "cell_type": "code",
   "execution_count": 48,
   "metadata": {},
   "outputs": [
    {
     "name": "stderr",
     "output_type": "stream",
     "text": [
      "/Users/abhishekanand/miniforge3/envs/py11-env/lib/python3.11/site-packages/seaborn/distributions.py:2551: FutureWarning: `distplot` is a deprecated function and will be removed in a future version. Please adapt your code to use either `displot` (a figure-level function with similar flexibility) or `kdeplot` (an axes-level function for kernel density plots).\n",
      "  warnings.warn(msg, FutureWarning)\n",
      "/Users/abhishekanand/miniforge3/envs/py11-env/lib/python3.11/site-packages/seaborn/distributions.py:2551: FutureWarning: `distplot` is a deprecated function and will be removed in a future version. Please adapt your code to use either `displot` (a figure-level function with similar flexibility) or `kdeplot` (an axes-level function for kernel density plots).\n",
      "  warnings.warn(msg, FutureWarning)\n"
     ]
    },
    {
     "data": {
      "text/plain": [
       "Text(0, 0.5, 'Density')"
      ]
     },
     "execution_count": 48,
     "metadata": {},
     "output_type": "execute_result"
    },
    {
     "data": {
      "image/png": "[encoded data removed]",
      "text/plain": [
       "<Figure size 640x480 with 1 Axes>"
      ]
     },
     "metadata": {},
     "output_type": "display_data"
    }
   ],
   "source": [
    "sns.distplot(max_conf_df['confidence'], hist = False, kde = True, kde_kws = {'linewidth': 2}, label = 'confidence')\n",
    "sns.distplot(max_conf_df['majority_confidence'], hist = False, kde = True, kde_kws = {'linewidth': 2}, label = 'majority_confidence')\n",
    "plt.legend(prop={'size': 10}, title = 'Columns')\n",
    "plt.title('Density Plot of Confidence and Majority Confidence')\n",
    "plt.xlabel('Value')\n",
    "plt.ylabel('Density')"
   ]
  },
  {
   "cell_type": "code",
   "execution_count": 54,
   "metadata": {},
   "outputs": [
    {
     "data": {
      "text/plain": [
       "PearsonRResult(statistic=0.4646721787900789, pvalue=0.0)"
      ]
     },
     "execution_count": 54,
     "metadata": {},
     "output_type": "execute_result"
    }
   ],
   "source": [
    "from scipy.stats import pearsonr\n",
    "\n",
    "pearsonr(cartography_df['confidence'], cartography_df['agreement_factor_rd'])"
   ]
  },
  {
   "cell_type": "code",
   "execution_count": 83,
   "metadata": {},
   "outputs": [
    {
     "data": {
      "text/plain": [
       "4857"
      ]
     },
     "execution_count": 83,
     "metadata": {},
     "output_type": "execute_result"
    }
   ],
   "source": [
    "grouped_data_label['group'].value_counts().sum()"
   ]
  },
  {
   "cell_type": "code",
   "execution_count": 84,
   "metadata": {},
   "outputs": [
    {
     "data": {
      "text/plain": [
       "1 Label > 0.5       2760\n",
       "All Labels > 0.5    2009\n",
       "0 Labels > 0.5        88\n",
       "Name: group, dtype: int64"
      ]
     },
     "execution_count": 84,
     "metadata": {},
     "output_type": "execute_result"
    }
   ],
   "source": [
    "grouped_data_label['group'].value_counts()"
   ]
  },
  {
   "cell_type": "code",
   "execution_count": 102,
   "metadata": {},
   "outputs": [],
   "source": [
    "labels_no_conf_indices = grouped_data_label[grouped_data_label['group']=='0 Labels > 0.5']['Mindex'].values"
   ]
  },
  {
   "cell_type": "code",
   "execution_count": 122,
   "metadata": {},
   "outputs": [
    {
     "data": {
      "text/html": [
       "<div>\n",
       "<style scoped>\n",
       "    .dataframe tbody tr th:only-of-type {\n",
       "        vertical-align: middle;\n",
       "    }\n",
       "\n",
       "    .dataframe tbody tr th {\n",
       "        vertical-align: top;\n",
       "    }\n",
       "\n",
       "    .dataframe thead th {\n",
       "        text-align: right;\n",
       "    }\n",
       "</style>\n",
       "<table border=\"1\" class=\"dataframe\">\n",
       "  <thead>\n",
       "    <tr style=\"text-align: right;\">\n",
       "      <th></th>\n",
       "      <th>Aindex</th>\n",
       "      <th>Mindex</th>\n",
       "      <th>text</th>\n",
       "      <th>label</th>\n",
       "      <th>majority_label</th>\n",
       "      <th>confidence</th>\n",
       "      <th>majority_confidence</th>\n",
       "      <th>majority_variability</th>\n",
       "    </tr>\n",
       "  </thead>\n",
       "  <tbody>\n",
       "    <tr>\n",
       "      <th>685</th>\n",
       "      <td>1</td>\n",
       "      <td>2674</td>\n",
       "      <td>When u are ready to listen I'll tell u coronav...</td>\n",
       "      <td>0</td>\n",
       "      <td>1</td>\n",
       "      <td>0.271449</td>\n",
       "      <td>0.844648</td>\n",
       "      <td>0.145159</td>\n",
       "    </tr>\n",
       "    <tr>\n",
       "      <th>686</th>\n",
       "      <td>6</td>\n",
       "      <td>2674</td>\n",
       "      <td>When u are ready to listen I'll tell u coronav...</td>\n",
       "      <td>1</td>\n",
       "      <td>1</td>\n",
       "      <td>0.544188</td>\n",
       "      <td>0.844648</td>\n",
       "      <td>0.145159</td>\n",
       "    </tr>\n",
       "    <tr>\n",
       "      <th>687</th>\n",
       "      <td>102</td>\n",
       "      <td>2674</td>\n",
       "      <td>When u are ready to listen I'll tell u coronav...</td>\n",
       "      <td>1</td>\n",
       "      <td>1</td>\n",
       "      <td>0.526440</td>\n",
       "      <td>0.844648</td>\n",
       "      <td>0.145159</td>\n",
       "    </tr>\n",
       "    <tr>\n",
       "      <th>688</th>\n",
       "      <td>106</td>\n",
       "      <td>2674</td>\n",
       "      <td>When u are ready to listen I'll tell u coronav...</td>\n",
       "      <td>1</td>\n",
       "      <td>1</td>\n",
       "      <td>0.356666</td>\n",
       "      <td>0.844648</td>\n",
       "      <td>0.145159</td>\n",
       "    </tr>\n",
       "    <tr>\n",
       "      <th>689</th>\n",
       "      <td>557</td>\n",
       "      <td>2674</td>\n",
       "      <td>When u are ready to listen I'll tell u coronav...</td>\n",
       "      <td>1</td>\n",
       "      <td>1</td>\n",
       "      <td>0.564284</td>\n",
       "      <td>0.844648</td>\n",
       "      <td>0.145159</td>\n",
       "    </tr>\n",
       "    <tr>\n",
       "      <th>960</th>\n",
       "      <td>1</td>\n",
       "      <td>4023</td>\n",
       "      <td>&lt;user&gt; &lt;user&gt; Report: Vikings are activating t...</td>\n",
       "      <td>0</td>\n",
       "      <td>1</td>\n",
       "      <td>0.323235</td>\n",
       "      <td>0.916792</td>\n",
       "      <td>0.101023</td>\n",
       "    </tr>\n",
       "    <tr>\n",
       "      <th>961</th>\n",
       "      <td>7</td>\n",
       "      <td>4023</td>\n",
       "      <td>&lt;user&gt; &lt;user&gt; Report: Vikings are activating t...</td>\n",
       "      <td>1</td>\n",
       "      <td>1</td>\n",
       "      <td>0.644345</td>\n",
       "      <td>0.916792</td>\n",
       "      <td>0.101023</td>\n",
       "    </tr>\n",
       "    <tr>\n",
       "      <th>962</th>\n",
       "      <td>8</td>\n",
       "      <td>4023</td>\n",
       "      <td>&lt;user&gt; &lt;user&gt; Report: Vikings are activating t...</td>\n",
       "      <td>1</td>\n",
       "      <td>1</td>\n",
       "      <td>0.451080</td>\n",
       "      <td>0.916792</td>\n",
       "      <td>0.101023</td>\n",
       "    </tr>\n",
       "    <tr>\n",
       "      <th>963</th>\n",
       "      <td>54</td>\n",
       "      <td>4023</td>\n",
       "      <td>&lt;user&gt; &lt;user&gt; Report: Vikings are activating t...</td>\n",
       "      <td>1</td>\n",
       "      <td>1</td>\n",
       "      <td>0.409764</td>\n",
       "      <td>0.916792</td>\n",
       "      <td>0.101023</td>\n",
       "    </tr>\n",
       "    <tr>\n",
       "      <th>964</th>\n",
       "      <td>69</td>\n",
       "      <td>4023</td>\n",
       "      <td>&lt;user&gt; &lt;user&gt; Report: Vikings are activating t...</td>\n",
       "      <td>1</td>\n",
       "      <td>1</td>\n",
       "      <td>0.292643</td>\n",
       "      <td>0.916792</td>\n",
       "      <td>0.101023</td>\n",
       "    </tr>\n",
       "  </tbody>\n",
       "</table>\n",
       "</div>"
      ],
      "text/plain": [
       "     Aindex  Mindex                                               text  label  \\\n",
       "685       1    2674  When u are ready to listen I'll tell u coronav...      0   \n",
       "686       6    2674  When u are ready to listen I'll tell u coronav...      1   \n",
       "687     102    2674  When u are ready to listen I'll tell u coronav...      1   \n",
       "688     106    2674  When u are ready to listen I'll tell u coronav...      1   \n",
       "689     557    2674  When u are ready to listen I'll tell u coronav...      1   \n",
       "960       1    4023  <user> <user> Report: Vikings are activating t...      0   \n",
       "961       7    4023  <user> <user> Report: Vikings are activating t...      1   \n",
       "962       8    4023  <user> <user> Report: Vikings are activating t...      1   \n",
       "963      54    4023  <user> <user> Report: Vikings are activating t...      1   \n",
       "964      69    4023  <user> <user> Report: Vikings are activating t...      1   \n",
       "\n",
       "     majority_label  confidence  majority_confidence  majority_variability  \n",
       "685               1    0.271449             0.844648              0.145159  \n",
       "686               1    0.544188             0.844648              0.145159  \n",
       "687               1    0.526440             0.844648              0.145159  \n",
       "688               1    0.356666             0.844648              0.145159  \n",
       "689               1    0.564284             0.844648              0.145159  \n",
       "960               1    0.323235             0.916792              0.101023  \n",
       "961               1    0.644345             0.916792              0.101023  \n",
       "962               1    0.451080             0.916792              0.101023  \n",
       "963               1    0.409764             0.916792              0.101023  \n",
       "964               1    0.292643             0.916792              0.101023  "
      ]
     },
     "execution_count": 122,
     "metadata": {},
     "output_type": "execute_result"
    }
   ],
   "source": [
    "cartography_df[cartography_df['Mindex'].isin(labels_no_conf_indices)][['Aindex',\t'Mindex',\t'text', 'label', 'majority_label', 'confidence', 'majority_confidence', 'majority_variability']].head(10)"
   ]
  },
  {
   "cell_type": "code",
   "execution_count": 114,
   "metadata": {},
   "outputs": [
    {
     "data": {
      "text/plain": [
       "0    122\n",
       "1     20\n",
       "Name: label, dtype: int64"
      ]
     },
     "execution_count": 114,
     "metadata": {},
     "output_type": "execute_result"
    }
   ],
   "source": [
    "cartography_df[cartography_df['Aindex'] == 106]['label'].value_counts()"
   ]
  },
  {
   "cell_type": "code",
   "execution_count": 119,
   "metadata": {},
   "outputs": [
    {
     "data": {
      "text/plain": [
       "0    612\n",
       "1    158\n",
       "Name: label, dtype: int64"
      ]
     },
     "execution_count": 119,
     "metadata": {},
     "output_type": "execute_result"
    }
   ],
   "source": [
    "cartography_df[cartography_df['Aindex'] == 69]['label'].value_counts()"
   ]
  },
  {
   "cell_type": "code",
   "execution_count": 128,
   "metadata": {},
   "outputs": [
    {
     "data": {
      "text/plain": [
       "0    164\n",
       "1    156\n",
       "Name: label, dtype: int64"
      ]
     },
     "execution_count": 128,
     "metadata": {},
     "output_type": "execute_result"
    }
   ],
   "source": [
    "cartography_df[cartography_df['Aindex'] == 1]['label'].value_counts()"
   ]
  },
  {
   "cell_type": "code",
   "execution_count": null,
   "metadata": {},
   "outputs": [],
   "source": []
  }
 ],
 "metadata": {
  "kernelspec": {
   "display_name": "py11-env",
   "language": "python",
   "name": "python3"
  },
  "language_info": {
   "codemirror_mode": {
    "name": "ipython",
    "version": 3
   },
   "file_extension": ".py",
   "mimetype": "text/x-python",
   "name": "python",
   "nbconvert_exporter": "python",
   "pygments_lexer": "ipython3",
   "version": "3.11.6"
  }
 },
 "nbformat": 4,
 "nbformat_minor": 2
}
