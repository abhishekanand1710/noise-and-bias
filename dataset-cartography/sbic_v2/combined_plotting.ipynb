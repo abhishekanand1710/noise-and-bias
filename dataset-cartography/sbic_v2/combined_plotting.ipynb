{
 "cells": [
  {
   "cell_type": "code",
   "execution_count": 4,
   "metadata": {},
   "outputs": [],
   "source": [
    "import pandas as pd\n",
    "import seaborn as sns\n",
    "import numpy as np\n",
    "import matplotlib.pyplot as plt\n",
    "from sklearn.metrics import f1_score\n",
    "\n",
    "from statannotations.Annotator import Annotator\n",
    "\n",
    "import json"
   ]
  },
  {
   "cell_type": "code",
   "execution_count": 5,
   "metadata": {},
   "outputs": [
    {
     "data": {
      "text/html": [
       "<div>\n",
       "<style scoped>\n",
       "    .dataframe tbody tr th:only-of-type {\n",
       "        vertical-align: middle;\n",
       "    }\n",
       "\n",
       "    .dataframe tbody tr th {\n",
       "        vertical-align: top;\n",
       "    }\n",
       "\n",
       "    .dataframe thead th {\n",
       "        text-align: right;\n",
       "    }\n",
       "</style>\n",
       "<table border=\"1\" class=\"dataframe\">\n",
       "  <thead>\n",
       "    <tr style=\"text-align: right;\">\n",
       "      <th></th>\n",
       "      <th>Aindex</th>\n",
       "      <th>Mindex</th>\n",
       "      <th>text</th>\n",
       "      <th>label_0_mean</th>\n",
       "      <th>label_0_std</th>\n",
       "      <th>label_0_last</th>\n",
       "      <th>label_1_mean</th>\n",
       "      <th>label_1_std</th>\n",
       "      <th>label_1_last</th>\n",
       "      <th>label</th>\n",
       "      <th>...</th>\n",
       "      <th>confidence</th>\n",
       "      <th>variability</th>\n",
       "      <th>correctness</th>\n",
       "      <th>is_correct</th>\n",
       "      <th>majority_label</th>\n",
       "      <th>agreement_factor</th>\n",
       "      <th>agreement_factor_rd</th>\n",
       "      <th>disagrees_with_majority</th>\n",
       "      <th>majority_confidence</th>\n",
       "      <th>majority_variability</th>\n",
       "    </tr>\n",
       "  </thead>\n",
       "  <tbody>\n",
       "    <tr>\n",
       "      <th>0</th>\n",
       "      <td>0</td>\n",
       "      <td>27</td>\n",
       "      <td>people be shooting their guns around here late...</td>\n",
       "      <td>0.468335</td>\n",
       "      <td>0.254122</td>\n",
       "      <td>0.461694</td>\n",
       "      <td>0.531665</td>\n",
       "      <td>0.254122</td>\n",
       "      <td>0.538306</td>\n",
       "      <td>0</td>\n",
       "      <td>...</td>\n",
       "      <td>0.468335</td>\n",
       "      <td>0.254122</td>\n",
       "      <td>0.461694</td>\n",
       "      <td>False</td>\n",
       "      <td>0</td>\n",
       "      <td>1.000000</td>\n",
       "      <td>1.0</td>\n",
       "      <td>False</td>\n",
       "      <td>0.634558</td>\n",
       "      <td>0.371043</td>\n",
       "    </tr>\n",
       "    <tr>\n",
       "      <th>1</th>\n",
       "      <td>18</td>\n",
       "      <td>27</td>\n",
       "      <td>people be shooting their guns around here late...</td>\n",
       "      <td>0.673583</td>\n",
       "      <td>0.149176</td>\n",
       "      <td>0.843622</td>\n",
       "      <td>0.326417</td>\n",
       "      <td>0.149176</td>\n",
       "      <td>0.156378</td>\n",
       "      <td>0</td>\n",
       "      <td>...</td>\n",
       "      <td>0.673583</td>\n",
       "      <td>0.149176</td>\n",
       "      <td>0.843622</td>\n",
       "      <td>True</td>\n",
       "      <td>0</td>\n",
       "      <td>1.000000</td>\n",
       "      <td>1.0</td>\n",
       "      <td>False</td>\n",
       "      <td>0.634558</td>\n",
       "      <td>0.371043</td>\n",
       "    </tr>\n",
       "    <tr>\n",
       "      <th>2</th>\n",
       "      <td>19</td>\n",
       "      <td>27</td>\n",
       "      <td>people be shooting their guns around here late...</td>\n",
       "      <td>0.598873</td>\n",
       "      <td>0.250696</td>\n",
       "      <td>0.965319</td>\n",
       "      <td>0.401127</td>\n",
       "      <td>0.250696</td>\n",
       "      <td>0.034681</td>\n",
       "      <td>0</td>\n",
       "      <td>...</td>\n",
       "      <td>0.598873</td>\n",
       "      <td>0.250696</td>\n",
       "      <td>0.965319</td>\n",
       "      <td>True</td>\n",
       "      <td>0</td>\n",
       "      <td>1.000000</td>\n",
       "      <td>1.0</td>\n",
       "      <td>False</td>\n",
       "      <td>0.634558</td>\n",
       "      <td>0.371043</td>\n",
       "    </tr>\n",
       "    <tr>\n",
       "      <th>3</th>\n",
       "      <td>0</td>\n",
       "      <td>245</td>\n",
       "      <td>S/o to dat bitch ass nigga in Alabama who wann...</td>\n",
       "      <td>0.432531</td>\n",
       "      <td>0.089234</td>\n",
       "      <td>0.475542</td>\n",
       "      <td>0.567469</td>\n",
       "      <td>0.089234</td>\n",
       "      <td>0.524458</td>\n",
       "      <td>0</td>\n",
       "      <td>...</td>\n",
       "      <td>0.432531</td>\n",
       "      <td>0.089234</td>\n",
       "      <td>0.475542</td>\n",
       "      <td>False</td>\n",
       "      <td>1</td>\n",
       "      <td>0.666667</td>\n",
       "      <td>0.8</td>\n",
       "      <td>True</td>\n",
       "      <td>0.854028</td>\n",
       "      <td>0.090836</td>\n",
       "    </tr>\n",
       "    <tr>\n",
       "      <th>4</th>\n",
       "      <td>44</td>\n",
       "      <td>245</td>\n",
       "      <td>S/o to dat bitch ass nigga in Alabama who wann...</td>\n",
       "      <td>0.472632</td>\n",
       "      <td>0.200629</td>\n",
       "      <td>0.205699</td>\n",
       "      <td>0.527368</td>\n",
       "      <td>0.200629</td>\n",
       "      <td>0.794301</td>\n",
       "      <td>1</td>\n",
       "      <td>...</td>\n",
       "      <td>0.527368</td>\n",
       "      <td>0.200629</td>\n",
       "      <td>0.794301</td>\n",
       "      <td>True</td>\n",
       "      <td>1</td>\n",
       "      <td>0.666667</td>\n",
       "      <td>0.8</td>\n",
       "      <td>False</td>\n",
       "      <td>0.854028</td>\n",
       "      <td>0.090836</td>\n",
       "    </tr>\n",
       "  </tbody>\n",
       "</table>\n",
       "<p>5 rows × 23 columns</p>\n",
       "</div>"
      ],
      "text/plain": [
       "   Aindex  Mindex                                               text  \\\n",
       "0       0      27  people be shooting their guns around here late...   \n",
       "1      18      27  people be shooting their guns around here late...   \n",
       "2      19      27  people be shooting their guns around here late...   \n",
       "3       0     245  S/o to dat bitch ass nigga in Alabama who wann...   \n",
       "4      44     245  S/o to dat bitch ass nigga in Alabama who wann...   \n",
       "\n",
       "   label_0_mean  label_0_std  label_0_last  label_1_mean  label_1_std  \\\n",
       "0      0.468335     0.254122      0.461694      0.531665     0.254122   \n",
       "1      0.673583     0.149176      0.843622      0.326417     0.149176   \n",
       "2      0.598873     0.250696      0.965319      0.401127     0.250696   \n",
       "3      0.432531     0.089234      0.475542      0.567469     0.089234   \n",
       "4      0.472632     0.200629      0.205699      0.527368     0.200629   \n",
       "\n",
       "   label_1_last  label  ...  confidence  variability correctness  is_correct  \\\n",
       "0      0.538306      0  ...    0.468335     0.254122    0.461694       False   \n",
       "1      0.156378      0  ...    0.673583     0.149176    0.843622        True   \n",
       "2      0.034681      0  ...    0.598873     0.250696    0.965319        True   \n",
       "3      0.524458      0  ...    0.432531     0.089234    0.475542       False   \n",
       "4      0.794301      1  ...    0.527368     0.200629    0.794301        True   \n",
       "\n",
       "   majority_label  agreement_factor  agreement_factor_rd  \\\n",
       "0               0          1.000000                  1.0   \n",
       "1               0          1.000000                  1.0   \n",
       "2               0          1.000000                  1.0   \n",
       "3               1          0.666667                  0.8   \n",
       "4               1          0.666667                  0.8   \n",
       "\n",
       "   disagrees_with_majority  majority_confidence  majority_variability  \n",
       "0                    False             0.634558              0.371043  \n",
       "1                    False             0.634558              0.371043  \n",
       "2                    False             0.634558              0.371043  \n",
       "3                     True             0.854028              0.090836  \n",
       "4                    False             0.854028              0.090836  \n",
       "\n",
       "[5 rows x 23 columns]"
      ]
     },
     "execution_count": 5,
     "metadata": {},
     "output_type": "execute_result"
    }
   ],
   "source": [
    "cartography_df = pd.read_csv('./results/full_cartography.csv')\n",
    "cartography_df.head()"
   ]
  },
  {
   "cell_type": "code",
   "execution_count": 6,
   "metadata": {},
   "outputs": [
    {
     "data": {
      "text/plain": [
       "Mindex\n",
       "1        3\n",
       "4        3\n",
       "5        2\n",
       "6        2\n",
       "7        3\n",
       "        ..\n",
       "45311    1\n",
       "45312    3\n",
       "45314    3\n",
       "45316    1\n",
       "45317    3\n",
       "Length: 27231, dtype: int64"
      ]
     },
     "execution_count": 6,
     "metadata": {},
     "output_type": "execute_result"
    }
   ],
   "source": [
    "cartography_df.groupby(['Mindex']).size()"
   ]
  },
  {
   "cell_type": "code",
   "execution_count": 7,
   "metadata": {},
   "outputs": [
    {
     "data": {
      "text/html": [
       "<div>\n",
       "<style scoped>\n",
       "    .dataframe tbody tr th:only-of-type {\n",
       "        vertical-align: middle;\n",
       "    }\n",
       "\n",
       "    .dataframe tbody tr th {\n",
       "        vertical-align: top;\n",
       "    }\n",
       "\n",
       "    .dataframe thead th {\n",
       "        text-align: right;\n",
       "    }\n",
       "</style>\n",
       "<table border=\"1\" class=\"dataframe\">\n",
       "  <thead>\n",
       "    <tr style=\"text-align: right;\">\n",
       "      <th></th>\n",
       "      <th>Aindex</th>\n",
       "      <th>Mindex</th>\n",
       "      <th>text</th>\n",
       "      <th>label_0_mean</th>\n",
       "      <th>label_0_std</th>\n",
       "      <th>label_0_last</th>\n",
       "      <th>label_1_mean</th>\n",
       "      <th>label_1_std</th>\n",
       "      <th>label_1_last</th>\n",
       "      <th>label</th>\n",
       "      <th>...</th>\n",
       "      <th>confidence</th>\n",
       "      <th>variability</th>\n",
       "      <th>correctness</th>\n",
       "      <th>is_correct</th>\n",
       "      <th>majority_label</th>\n",
       "      <th>agreement_factor</th>\n",
       "      <th>agreement_factor_rd</th>\n",
       "      <th>disagrees_with_majority</th>\n",
       "      <th>majority_confidence</th>\n",
       "      <th>majority_variability</th>\n",
       "    </tr>\n",
       "  </thead>\n",
       "  <tbody>\n",
       "    <tr>\n",
       "      <th>3</th>\n",
       "      <td>0</td>\n",
       "      <td>245</td>\n",
       "      <td>S/o to dat bitch ass nigga in Alabama who wann...</td>\n",
       "      <td>0.432531</td>\n",
       "      <td>0.089234</td>\n",
       "      <td>0.475542</td>\n",
       "      <td>0.567469</td>\n",
       "      <td>0.089234</td>\n",
       "      <td>0.524458</td>\n",
       "      <td>0</td>\n",
       "      <td>...</td>\n",
       "      <td>0.432531</td>\n",
       "      <td>0.089234</td>\n",
       "      <td>0.475542</td>\n",
       "      <td>False</td>\n",
       "      <td>1</td>\n",
       "      <td>0.666667</td>\n",
       "      <td>0.8</td>\n",
       "      <td>True</td>\n",
       "      <td>0.854028</td>\n",
       "      <td>0.090836</td>\n",
       "    </tr>\n",
       "    <tr>\n",
       "      <th>4</th>\n",
       "      <td>44</td>\n",
       "      <td>245</td>\n",
       "      <td>S/o to dat bitch ass nigga in Alabama who wann...</td>\n",
       "      <td>0.472632</td>\n",
       "      <td>0.200629</td>\n",
       "      <td>0.205699</td>\n",
       "      <td>0.527368</td>\n",
       "      <td>0.200629</td>\n",
       "      <td>0.794301</td>\n",
       "      <td>1</td>\n",
       "      <td>...</td>\n",
       "      <td>0.527368</td>\n",
       "      <td>0.200629</td>\n",
       "      <td>0.794301</td>\n",
       "      <td>True</td>\n",
       "      <td>1</td>\n",
       "      <td>0.666667</td>\n",
       "      <td>0.8</td>\n",
       "      <td>False</td>\n",
       "      <td>0.854028</td>\n",
       "      <td>0.090836</td>\n",
       "    </tr>\n",
       "    <tr>\n",
       "      <th>5</th>\n",
       "      <td>57</td>\n",
       "      <td>245</td>\n",
       "      <td>S/o to dat bitch ass nigga in Alabama who wann...</td>\n",
       "      <td>0.368366</td>\n",
       "      <td>0.151878</td>\n",
       "      <td>0.343379</td>\n",
       "      <td>0.631634</td>\n",
       "      <td>0.151878</td>\n",
       "      <td>0.656621</td>\n",
       "      <td>1</td>\n",
       "      <td>...</td>\n",
       "      <td>0.631634</td>\n",
       "      <td>0.151878</td>\n",
       "      <td>0.656621</td>\n",
       "      <td>True</td>\n",
       "      <td>1</td>\n",
       "      <td>0.666667</td>\n",
       "      <td>0.8</td>\n",
       "      <td>False</td>\n",
       "      <td>0.854028</td>\n",
       "      <td>0.090836</td>\n",
       "    </tr>\n",
       "    <tr>\n",
       "      <th>6</th>\n",
       "      <td>0</td>\n",
       "      <td>404</td>\n",
       "      <td>RT @NerdAtCoolTable: Any chick that gets In a ...</td>\n",
       "      <td>0.324292</td>\n",
       "      <td>0.095758</td>\n",
       "      <td>0.418641</td>\n",
       "      <td>0.675708</td>\n",
       "      <td>0.095758</td>\n",
       "      <td>0.581359</td>\n",
       "      <td>1</td>\n",
       "      <td>...</td>\n",
       "      <td>0.675708</td>\n",
       "      <td>0.095758</td>\n",
       "      <td>0.581359</td>\n",
       "      <td>True</td>\n",
       "      <td>1</td>\n",
       "      <td>0.666667</td>\n",
       "      <td>0.8</td>\n",
       "      <td>False</td>\n",
       "      <td>0.826462</td>\n",
       "      <td>0.217120</td>\n",
       "    </tr>\n",
       "    <tr>\n",
       "      <th>7</th>\n",
       "      <td>39</td>\n",
       "      <td>404</td>\n",
       "      <td>RT @NerdAtCoolTable: Any chick that gets In a ...</td>\n",
       "      <td>0.594642</td>\n",
       "      <td>0.098114</td>\n",
       "      <td>0.547529</td>\n",
       "      <td>0.405358</td>\n",
       "      <td>0.098114</td>\n",
       "      <td>0.452471</td>\n",
       "      <td>0</td>\n",
       "      <td>...</td>\n",
       "      <td>0.594642</td>\n",
       "      <td>0.098114</td>\n",
       "      <td>0.547529</td>\n",
       "      <td>True</td>\n",
       "      <td>1</td>\n",
       "      <td>0.666667</td>\n",
       "      <td>0.8</td>\n",
       "      <td>True</td>\n",
       "      <td>0.826462</td>\n",
       "      <td>0.217120</td>\n",
       "    </tr>\n",
       "  </tbody>\n",
       "</table>\n",
       "<p>5 rows × 23 columns</p>\n",
       "</div>"
      ],
      "text/plain": [
       "   Aindex  Mindex                                               text  \\\n",
       "3       0     245  S/o to dat bitch ass nigga in Alabama who wann...   \n",
       "4      44     245  S/o to dat bitch ass nigga in Alabama who wann...   \n",
       "5      57     245  S/o to dat bitch ass nigga in Alabama who wann...   \n",
       "6       0     404  RT @NerdAtCoolTable: Any chick that gets In a ...   \n",
       "7      39     404  RT @NerdAtCoolTable: Any chick that gets In a ...   \n",
       "\n",
       "   label_0_mean  label_0_std  label_0_last  label_1_mean  label_1_std  \\\n",
       "3      0.432531     0.089234      0.475542      0.567469     0.089234   \n",
       "4      0.472632     0.200629      0.205699      0.527368     0.200629   \n",
       "5      0.368366     0.151878      0.343379      0.631634     0.151878   \n",
       "6      0.324292     0.095758      0.418641      0.675708     0.095758   \n",
       "7      0.594642     0.098114      0.547529      0.405358     0.098114   \n",
       "\n",
       "   label_1_last  label  ...  confidence  variability correctness  is_correct  \\\n",
       "3      0.524458      0  ...    0.432531     0.089234    0.475542       False   \n",
       "4      0.794301      1  ...    0.527368     0.200629    0.794301        True   \n",
       "5      0.656621      1  ...    0.631634     0.151878    0.656621        True   \n",
       "6      0.581359      1  ...    0.675708     0.095758    0.581359        True   \n",
       "7      0.452471      0  ...    0.594642     0.098114    0.547529        True   \n",
       "\n",
       "   majority_label  agreement_factor  agreement_factor_rd  \\\n",
       "3               1          0.666667                  0.8   \n",
       "4               1          0.666667                  0.8   \n",
       "5               1          0.666667                  0.8   \n",
       "6               1          0.666667                  0.8   \n",
       "7               1          0.666667                  0.8   \n",
       "\n",
       "   disagrees_with_majority  majority_confidence  majority_variability  \n",
       "3                     True             0.854028              0.090836  \n",
       "4                    False             0.854028              0.090836  \n",
       "5                    False             0.854028              0.090836  \n",
       "6                    False             0.826462              0.217120  \n",
       "7                     True             0.826462              0.217120  \n",
       "\n",
       "[5 rows x 23 columns]"
      ]
     },
     "execution_count": 7,
     "metadata": {},
     "output_type": "execute_result"
    }
   ],
   "source": [
    "both_votes_df = cartography_df[cartography_df['agreement_factor'] < 1.0].copy()\n",
    "both_votes_df.head()"
   ]
  },
  {
   "cell_type": "code",
   "execution_count": 8,
   "metadata": {},
   "outputs": [
    {
     "data": {
      "text/plain": [
       "27231"
      ]
     },
     "execution_count": 8,
     "metadata": {},
     "output_type": "execute_result"
    }
   ],
   "source": [
    "cartography_df['Mindex'].nunique()"
   ]
  },
  {
   "cell_type": "code",
   "execution_count": 9,
   "metadata": {},
   "outputs": [
    {
     "data": {
      "text/plain": [
       "array([[0.7451552867889404,\n",
       "        'At the MLK march tryna find a man bitch we see U', 9, 1, 1],\n",
       "       [0.6453444361686707,\n",
       "        'At the MLK march tryna find a man bitch we see U', 55, 0, 0],\n",
       "       [0.4927133440971374,\n",
       "        'At the MLK march tryna find a man bitch we see U', 58, 1, 0]],\n",
       "      dtype=object)"
      ]
     },
     "execution_count": 9,
     "metadata": {},
     "output_type": "execute_result"
    }
   ],
   "source": [
    "both_votes_df[both_votes_df['Mindex'] == 679][['confidence', 'text', 'Aindex', 'pred', 'label']].values"
   ]
  },
  {
   "cell_type": "code",
   "execution_count": 10,
   "metadata": {},
   "outputs": [
    {
     "data": {
      "text/plain": [
       "array([[0.4325306832790375,\n",
       "        'S/o to dat bitch ass nigga in Alabama who wanna kill me #GoodLucc',\n",
       "        1, 0],\n",
       "       [0.6757081985473633,\n",
       "        'RT @NerdAtCoolTable: Any chick that gets In a fight after the age 24 is a hoe',\n",
       "        1, 1],\n",
       "       [0.5815780520439148,\n",
       "        'RT @iDntWearCondoms: If your girl see that another girl likes you, her name is \"this bitch\" until further notice.',\n",
       "        0, 0],\n",
       "       [0.4629585146903991,\n",
       "        '\"@PRAYINGFORHEAD: &#8220;@macklemroe: Stop bringing weird niggers into my mentions! @PRAYINGFORHEAD&#8221; http://t.co/cussDJesRK\"',\n",
       "        0, 1],\n",
       "       [0.8293987274169922,\n",
       "        'Dumb bitches that think Buddha says namaste', 1, 1],\n",
       "       [0.3276289016008377,\n",
       "        'Yandy gotta pay me for dick im sorry...that bitch ugly', 1, 0],\n",
       "       [0.3012238472700118, 'Wut a bitch', 1, 0],\n",
       "       [0.6378005027770997,\n",
       "        '\"I used to dress up like a cop too.\"\\n\"Oh really?\"\\n\"Yeah...right after 9/11...mad pussy.\"\\n\"Really?\"\\n\"Yes...I\\'ll NEVER FORGET.\"',\n",
       "        1, 1],\n",
       "       [0.0281489823013543,\n",
       "        \"&#8220;@Analyyxo: Say Something is the one Drake song I have to listen to when I'm in my feelings&#8221;fag\",\n",
       "        0, 1],\n",
       "       [0.0732334822416305, 'Stupid ass hoe', 1, 0],\n",
       "       [0.7774339199066163,\n",
       "        \"I wouldn't be this mad if my hair was fucking done!!!!\", 0, 0],\n",
       "       [0.5228535115718842,\n",
       "        \"Alotta Niggas Hate &amp; Sneak Dissing But I Missed Dat &#129300;Catch Em In Traffic He Swear &#128588;&#127998; He Ain't Wit Dat\",\n",
       "        0, 0],\n",
       "       [0.6817026853561401,\n",
       "        'Sick of fucking terrorists! Now Sweden what the fuck &#128545;',\n",
       "        1, 1],\n",
       "       [0.0275546516291796,\n",
       "        'why on earth did i take this god awful fucking shift oh my god',\n",
       "        0, 1],\n",
       "       [0.8179717063903809,\n",
       "        \"I don't have the energy to fight. I'm not going to fight for you to stay. You either want to be in my life or you don't.bI can't change that\",\n",
       "        0, 0],\n",
       "       [0.5514449000358581,\n",
       "        \"#whatgrindsmygears ...When you go to McDonald's and there's 5 people behind the till but non of them can fucking serve you on time\",\n",
       "        0, 1],\n",
       "       [0.2064284920692443,\n",
       "        'WHAT ARE THE FUCKING CHANCES OF MEETING MY ESTRANGED FATHER OF 26YRS AT MY FUCKING JOB!?!',\n",
       "        0, 1],\n",
       "       [0.1913469091057777,\n",
       "        \"Just had to say that talking crazy through inbox I'll show you how the situation can get handled real quick\",\n",
       "        0, 1],\n",
       "       [0.2220178633928298,\n",
       "        '\"#freshlypressed981 If meningitis comes to your door step, Senator Dino Melaye suggests we look it in the face and say \"\"Ajé kú ìyá lo jẹ́\"\"\"',\n",
       "        0, 1],\n",
       "       [0.6649259209632874,\n",
       "        \"I'm sure it's just a coincidence that every Trump supporter I've argued with in person happens to believe same insane conspiracy theories.\",\n",
       "        0, 0],\n",
       "       [0.4461588561534881,\n",
       "        \"If u don't take your socks off when u fucking a girl then it's not cheating\",\n",
       "        0, 1],\n",
       "       [0.5147521018981933,\n",
       "        'This is a black hypothesis Edit: my hypothesis is correct', 0,\n",
       "        0],\n",
       "       [0.3683878265321254,\n",
       "        'Last month, everyone was talking about the Indonesian tsunami. Now everyone’s talking about something plane.',\n",
       "        1, 0],\n",
       "       [0.3943014055490493,\n",
       "        \"What's the Difference Between Rhythm and Beat? You can't get arrested for Rhythming your child.\",\n",
       "        1, 0],\n",
       "       [0.9320915937423706,\n",
       "        'My doctor gave me melatonin to help me sleep. So if melatonin makes you sleepy, is that why black people are always late?  Becuase they like, already have it in their skin?',\n",
       "        1, 1],\n",
       "       [0.4242169320583343,\n",
       "        'If you are what you eat... Then I’m a miscarriage', 0, 1],\n",
       "       [0.316660338640213,\n",
       "        'What do we call a sportscar on the wrong side of the highway? McSkillet',\n",
       "        0, 1],\n",
       "       [0.2945312768220901,\n",
       "        'Why is life a game? Because you can end it anytime.', 0, 1],\n",
       "       [0.7559689402580261,\n",
       "        'Props to pedophiles They always slow down when driving in school zones',\n",
       "        1, 1],\n",
       "       [0.3123718500137329,\n",
       "        'So my wife wanted to try anal the other day Thanks to that we found the lump in my prostate.',\n",
       "        0, 1],\n",
       "       [0.5260219156742096,\n",
       "        'Whats the difference between Michael buble and the earth? This time next year the earth will still have a son',\n",
       "        1, 1],\n",
       "       [0.8062094449996948,\n",
       "        \"How many dead babies does it take to change a lightbulb? Apparently more than 5, because my basement's still dark.\",\n",
       "        1, 1],\n",
       "       [0.4417727649211883,\n",
       "        'You realize most people who cut hair are women, right? @Jovvven: I have yet to meet a woman who can cut a good haircut #notsexist',\n",
       "        1, 0],\n",
       "       [0.2821422368288039,\n",
       "        'No @minasmith64  as @d_m_elms says it\\'s just \"school policy\" to deny legal rights to people who look like rapists.  \"Rapial profiling\" Duh.',\n",
       "        1, 0],\n",
       "       [0.7015550374984741,\n",
       "        \"ethics in journalism. ETHICS. IN. JOURRRRRRRNALISM. No wonder he's friends with that walking burrito fart, milo.\",\n",
       "        1, 1],\n",
       "       [0.4483017146587372,\n",
       "        '.@MarciaCrocker01 @trishesdishes ..mistake. I find both abortion &amp; child abandonment detestable. But, if one gets an awful choice, both must',\n",
       "        0, 1],\n",
       "       [0.4753969430923462,\n",
       "        '.@ListenToRaisin @ILivUndrUrBed @Bananaramble The fate of most feminists...',\n",
       "        0, 0],\n",
       "       [0.2796675533056259,\n",
       "        'Now that the world is starting to see him for what he is, he must be living in a perpetual cloud of disappointment. #stopwadhwa2015',\n",
       "        0, 1],\n",
       "       [0.4932500064373016,\n",
       "        \".@wadhwa is so convinced that we're all just misinformed. The same guy that didn't even read a twitter bio of a female dev criticizing him.\",\n",
       "        0, 0],\n",
       "       [0.5284878551959992,\n",
       "        \"Sadly this is the 2nd time I've seen this sentiment #getalife @AndyCambridgio I'm not sexist but fuck catching a girl pokemon #pokemonprobs\",\n",
       "        0, 0],\n",
       "       [0.41456139087677,\n",
       "        'If women being angry at men turns you off of feminism, you are not ready for feminism.',\n",
       "        0, 0],\n",
       "       [0.7239751219749451,\n",
       "        'what do a used car lot and a cambodian whore house have in common ? nobody wants to buy anything over <number> years old .',\n",
       "        1, 1],\n",
       "       [0.5148937702178955,\n",
       "        \"Friend A:: I feel so American right now, I could punch an Arab in the face! Friend B:: So I guess this would be an awkward time to remind you that I'm half Lebanese... Friend A:: Oh...\",\n",
       "        1, 1],\n",
       "       [0.452098000049591,\n",
       "        'Did you steal that baby?!? It looks terrified!', 1, 0],\n",
       "       [0.5443553328514099,\n",
       "        \"I'm surprised you're not in jail right now.\", 0, 0],\n",
       "       [0.7053045392036438,\n",
       "        'You know that hairstyle is for guys, right?', 0, 0],\n",
       "       [0.6798285067081451,\n",
       "        'BREAKING: No one gives a fuck what the UN thinks.', 0, 0],\n",
       "       [0.4857725799083709,\n",
       "        'Papa Smurf has been accused by Smurfette for touching her in her good stuff',\n",
       "        1, 0],\n",
       "       [0.1700581297278403,\n",
       "        '#MAGA #STORM #MASSIVETAXCUTS #TRIGGERWARNING #ISTANDWITHFLYNN #FIREMcCABE #FIREROSENSTEIN #CORRUPTDOJ #URANIUMONE #KILLARYFORPRISON  145 million dollars for Clinton foundation for uranium one deal KILLARY colluding with RUSSIA',\n",
       "        0, 1],\n",
       "       [0.6348719000816345,\n",
       "        \"Not that I care what the hell happens in Hollywood, cant say I ever really have~the fact that they have all become insanely unhinged is like a Trump bonus...but this whole Ashley Judd praising James Franco thing, is kinda f'd up! \",\n",
       "        0, 0],\n",
       "       [0.2359742566943168,\n",
       "        'When moslems flee moslem countries dont that make them islamophobic?',\n",
       "        1, 0],\n",
       "       [0.5547530293464661,\n",
       "        \"Didn't @JimiHendrix know cigarettes could kill him?\", 0, 0],\n",
       "       [0.5925420999526978,\n",
       "        'Like I said earlier the English have been subjected to a far worse campaign of indoctrination than the rest of us .',\n",
       "        0, 0],\n",
       "       [0.7629435539245606,\n",
       "        'At least people in the US have guns to defend themselves .', 0,\n",
       "        0],\n",
       "       [0.4552905201911926,\n",
       "        \"I have Japanese friends online , and they think it 's pretty funny that our countries are letting themselves get * * * * ed by bull * * * * .\",\n",
       "        1, 0],\n",
       "       [0.4898732274770737,\n",
       "        \"Anyone who believes that Hitler 's actions were well founded and the correct actions for the situation has to also believe that white extinction is an acceptable outcome .\",\n",
       "        0, 0],\n",
       "       [0.3473525166511535,\n",
       "        '...the Jew shall have my Flesh , blood and bones and all ...',\n",
       "        1, 0],\n",
       "       [0.6641866981983184,\n",
       "        \"Look for Don McAlvany 's `` Revolution and Betrayal '' The terrorist-pig was caught red-handed with tens of thousands of grenades and anti-personnel mines .\",\n",
       "        1, 1],\n",
       "       [0.6465771198272705,\n",
       "        'I heard about the romanian gypsies that were on the roundabout in ballymun last year ... 400 of them will be coming back to Ireland and given houses !',\n",
       "        0, 0],\n",
       "       [0.2242515906691551,\n",
       "        'Can i suggest some of the locals get up of their behinds and lets these traitors know that this anti-white festival is not welcome in their town 828',\n",
       "        1, 0],\n",
       "       [0.4710140943527222,\n",
       "        \"It's their birth rate that people always forget .\", 1, 0],\n",
       "       [0.457338261604309,\n",
       "        'twox whores with \"social anxiety\"\\n\"uggghhhhhh my bf and orbitors are, like, totally unsupportive!!\"',\n",
       "        0, 0],\n",
       "       [0.548800653219223,\n",
       "        'Responded to a post about gender bias in BBQing (yes, really) and got banned from /r/feminism.',\n",
       "        1, 0],\n",
       "       [0.7144420146942139,\n",
       "        \"There is nothing more disgusting than incel success stories\\nYou don't need to rub it on our faces you Normie piece of shit.\",\n",
       "        1, 1],\n",
       "       [0.418907356262207,\n",
       "        \"Daily reminder that therapy is a scam\\nIf you are incel, therapy is NOT gonna help you, the therapist is not gonna fix your bones or make you taller, don't waste your time and money with these damn ticks.\",\n",
       "        0, 1],\n",
       "       [0.8769924998283386,\n",
       "        'askreddit xpost: Men who were raped/beaten by women, what is your story?',\n",
       "        0, 0],\n",
       "       [0.1418039567768573,\n",
       "        'No summer school? &#128515;&#128515;&#128515;&#128515;&#128515;&#128515;&#128515;&#128515;&#128515;&#128515;&#128515;&#128515;&#128515;&#128515;&#128515;&#128515;&#128515;&#128515;&#128515;&#128515;&#128515;&#128515;&#128515;&#128515;&#128515;&#128515;&#128515;&#128515;&#128515;&#128515;&#128515;&#128515;&#128515;&#128515;&#128515;&#128515;&#128515;&#128515;&#128515;&#128515;&#128515;&#128515;&#128515;&#128515;&#128515;&#128515;&#128515;&#128515;&#128515;&#128515;&#128515;&#128515;&#128515;&#128515;&#128515;&#128515;&#128515;&#128515;&#128515;&#128515;&#128515;&#128515;&#128515;&#128515;&#128515; eat a dick school. Im done with your bitch ass !!!!!!',\n",
       "        0, 1],\n",
       "       [0.0807875797152518,\n",
       "        \"I'm so fucking tired i can't deal with my friends and family anymore i hate everyone i literally hate everyone i'm so angry bye\",\n",
       "        0, 1],\n",
       "       [0.1838628713041543,\n",
       "        'The perfect placement for a Chinese restaurant. Free food!!', 0,\n",
       "        1],\n",
       "       [0.4871686041355133,\n",
       "        \"I'm sick of hearing all this stuff about feminism. I'm a white male, does that make me rich? I'm not 'empowered' just because I'm a guy. Do you know how many scholarships I can't apply for because I'm male?\",\n",
       "        0, 0],\n",
       "       [0.691632604598999,\n",
       "        'RT @Ayyee_Vonte: Why do people have A Problem with Gay People? Know what, fuck it... I Got A Problem with you Straight hoes! Now what?',\n",
       "        1, 1],\n",
       "       [0.6370096206665039,\n",
       "        \"his gov't fucking BANNED syrians from going to US. his admin is friendly w/putin who supports assad regime.\",\n",
       "        0, 0],\n",
       "       [0.4435372814536095,\n",
       "        'Can’t stand to see a beloved pet put down? Just book a flight on United Airlines.',\n",
       "        0, 1],\n",
       "       [0.3402807474136352,\n",
       "        \"I wouldn't call myself a feminist anymore.  I think I'm a realist now. I think maybe we're in denial and that men and women aren't necessarily capable of the same things. Maybe women need to make some sacrifices.\",\n",
       "        1, 0],\n",
       "       [0.7147369623184204,\n",
       "        \"Are you going to permanently straighten your hair or get a weave? I mean, you'd be a lot prettier if you did.\",\n",
       "        0, 0],\n",
       "       [0.8035810828208924,\n",
       "        'CADDLE DIE YOU YOURSELF DIE KINSMEN DIE BUT I KNOW ONE THING WHICH NEVER DIES JUDGEMENT OF A DEADMANS LIFE',\n",
       "        0, 0],\n",
       "       [0.2867361277341843,\n",
       "        \"In light of this it 's now wonder Hitler was considered a champion of the German people .\",\n",
       "        0, 1]], dtype=object)"
      ]
     },
     "execution_count": 10,
     "metadata": {},
     "output_type": "execute_result"
    }
   ],
   "source": [
    "both_votes_df[both_votes_df['Aindex'] == 0][['confidence', 'text', 'pred', 'label']].values"
   ]
  },
  {
   "cell_type": "code",
   "execution_count": 11,
   "metadata": {},
   "outputs": [
    {
     "data": {
      "text/html": [
       "<div>\n",
       "<style scoped>\n",
       "    .dataframe tbody tr th:only-of-type {\n",
       "        vertical-align: middle;\n",
       "    }\n",
       "\n",
       "    .dataframe tbody tr th {\n",
       "        vertical-align: top;\n",
       "    }\n",
       "\n",
       "    .dataframe thead th {\n",
       "        text-align: right;\n",
       "    }\n",
       "</style>\n",
       "<table border=\"1\" class=\"dataframe\">\n",
       "  <thead>\n",
       "    <tr style=\"text-align: right;\">\n",
       "      <th>label</th>\n",
       "      <th>Mindex</th>\n",
       "      <th>label_0</th>\n",
       "      <th>label_1</th>\n",
       "    </tr>\n",
       "  </thead>\n",
       "  <tbody>\n",
       "    <tr>\n",
       "      <th>0</th>\n",
       "      <td>7</td>\n",
       "      <td>0.345700</td>\n",
       "      <td>0.836047</td>\n",
       "    </tr>\n",
       "    <tr>\n",
       "      <th>1</th>\n",
       "      <td>8</td>\n",
       "      <td>0.238775</td>\n",
       "      <td>0.760268</td>\n",
       "    </tr>\n",
       "    <tr>\n",
       "      <th>2</th>\n",
       "      <td>16</td>\n",
       "      <td>0.516981</td>\n",
       "      <td>0.595758</td>\n",
       "    </tr>\n",
       "    <tr>\n",
       "      <th>3</th>\n",
       "      <td>18</td>\n",
       "      <td>0.809001</td>\n",
       "      <td>0.360159</td>\n",
       "    </tr>\n",
       "    <tr>\n",
       "      <th>4</th>\n",
       "      <td>30</td>\n",
       "      <td>0.299280</td>\n",
       "      <td>0.531855</td>\n",
       "    </tr>\n",
       "  </tbody>\n",
       "</table>\n",
       "</div>"
      ],
      "text/plain": [
       "label  Mindex   label_0   label_1\n",
       "0           7  0.345700  0.836047\n",
       "1           8  0.238775  0.760268\n",
       "2          16  0.516981  0.595758\n",
       "3          18  0.809001  0.360159\n",
       "4          30  0.299280  0.531855"
      ]
     },
     "execution_count": 11,
     "metadata": {},
     "output_type": "execute_result"
    }
   ],
   "source": [
    "grouped_data_label = both_votes_df.groupby(['Mindex', 'label']).agg({'confidence': 'mean'}).reset_index()\n",
    "grouped_data_label = grouped_data_label.pivot(index='Mindex', columns='label', values='confidence').reset_index()\n",
    "grouped_data_label.rename(columns={0: 'label_0', 1: 'label_1', 'label': 'index'}, inplace=True)\n",
    "grouped_data_label.head()"
   ]
  },
  {
   "cell_type": "code",
   "execution_count": 12,
   "metadata": {},
   "outputs": [],
   "source": [
    "count_column = both_votes_df.groupby('Mindex').size().reset_index(name='count')\n",
    "grouped_data_label = grouped_data_label.merge(count_column, on='Mindex')"
   ]
  },
  {
   "cell_type": "code",
   "execution_count": 13,
   "metadata": {},
   "outputs": [
    {
     "name": "stdout",
     "output_type": "stream",
     "text": [
      "<class 'pandas.core.frame.DataFrame'>\n",
      "Int64Index: 6486 entries, 0 to 6485\n",
      "Data columns (total 4 columns):\n",
      " #   Column   Non-Null Count  Dtype  \n",
      "---  ------   --------------  -----  \n",
      " 0   Mindex   6486 non-null   int64  \n",
      " 1   label_0  6486 non-null   float64\n",
      " 2   label_1  6486 non-null   float64\n",
      " 3   count    6486 non-null   int64  \n",
      "dtypes: float64(2), int64(2)\n",
      "memory usage: 253.4 KB\n"
     ]
    }
   ],
   "source": [
    "grouped_data_label.info()"
   ]
  },
  {
   "cell_type": "code",
   "execution_count": 19,
   "metadata": {},
   "outputs": [],
   "source": [
    "both_mindex_values = grouped_data_label[(grouped_data_label['label_0'] > 0.5) & (grouped_data_label['label_1'] > 0.5)]['Mindex'].values\n",
    "only_0_mindex_values = grouped_data_label[(grouped_data_label['label_0'] > 0.5) & (grouped_data_label['label_1'] <= 0.5)]['Mindex'].values\n",
    "only_1_mindex_values = grouped_data_label[(grouped_data_label['label_0'] <= 0.5) & (grouped_data_label['label_1'] > 0.5)]['Mindex'].values\n",
    "none_mindex_values = grouped_data_label[(grouped_data_label['label_0'] <= 0.5) & (grouped_data_label['label_1'] <= 0.5)]['Mindex'].values\n",
    "\n",
    "grouped_data_label['group'] = 0\n",
    "grouped_data_label.loc[grouped_data_label['Mindex'].isin(both_mindex_values), 'group'] = 'All Labels > 0.5'\n",
    "grouped_data_label.loc[grouped_data_label['Mindex'].isin(only_0_mindex_values), 'group'] = '1 Label > 0.5'\n",
    "grouped_data_label.loc[grouped_data_label['Mindex'].isin(only_1_mindex_values), 'group'] = '1 Label > 0.5'\n",
    "grouped_data_label.loc[grouped_data_label['Mindex'].isin(none_mindex_values), 'group'] = '0 Labels > 0.5'"
   ]
  },
  {
   "cell_type": "code",
   "execution_count": 15,
   "metadata": {},
   "outputs": [
    {
     "data": {
      "text/html": [
       "<div>\n",
       "<style scoped>\n",
       "    .dataframe tbody tr th:only-of-type {\n",
       "        vertical-align: middle;\n",
       "    }\n",
       "\n",
       "    .dataframe tbody tr th {\n",
       "        vertical-align: top;\n",
       "    }\n",
       "\n",
       "    .dataframe thead th {\n",
       "        text-align: right;\n",
       "    }\n",
       "</style>\n",
       "<table border=\"1\" class=\"dataframe\">\n",
       "  <thead>\n",
       "    <tr style=\"text-align: right;\">\n",
       "      <th></th>\n",
       "      <th>Mindex</th>\n",
       "      <th>label_0</th>\n",
       "      <th>label_1</th>\n",
       "      <th>count</th>\n",
       "      <th>group</th>\n",
       "    </tr>\n",
       "  </thead>\n",
       "  <tbody>\n",
       "    <tr>\n",
       "      <th>6481</th>\n",
       "      <td>45285</td>\n",
       "      <td>0.799048</td>\n",
       "      <td>0.382788</td>\n",
       "      <td>3</td>\n",
       "      <td>1 Label &gt; 0.5</td>\n",
       "    </tr>\n",
       "    <tr>\n",
       "      <th>6482</th>\n",
       "      <td>45292</td>\n",
       "      <td>0.748950</td>\n",
       "      <td>0.618096</td>\n",
       "      <td>3</td>\n",
       "      <td>2 Labels &gt; 0.5</td>\n",
       "    </tr>\n",
       "    <tr>\n",
       "      <th>6483</th>\n",
       "      <td>45294</td>\n",
       "      <td>0.595958</td>\n",
       "      <td>0.820468</td>\n",
       "      <td>3</td>\n",
       "      <td>2 Labels &gt; 0.5</td>\n",
       "    </tr>\n",
       "    <tr>\n",
       "      <th>6484</th>\n",
       "      <td>45301</td>\n",
       "      <td>0.864831</td>\n",
       "      <td>0.437305</td>\n",
       "      <td>3</td>\n",
       "      <td>1 Label &gt; 0.5</td>\n",
       "    </tr>\n",
       "    <tr>\n",
       "      <th>6485</th>\n",
       "      <td>45312</td>\n",
       "      <td>0.960800</td>\n",
       "      <td>0.021678</td>\n",
       "      <td>3</td>\n",
       "      <td>1 Label &gt; 0.5</td>\n",
       "    </tr>\n",
       "  </tbody>\n",
       "</table>\n",
       "</div>"
      ],
      "text/plain": [
       "      Mindex   label_0   label_1  count           group\n",
       "6481   45285  0.799048  0.382788      3   1 Label > 0.5\n",
       "6482   45292  0.748950  0.618096      3  2 Labels > 0.5\n",
       "6483   45294  0.595958  0.820468      3  2 Labels > 0.5\n",
       "6484   45301  0.864831  0.437305      3   1 Label > 0.5\n",
       "6485   45312  0.960800  0.021678      3   1 Label > 0.5"
      ]
     },
     "execution_count": 15,
     "metadata": {},
     "output_type": "execute_result"
    }
   ],
   "source": [
    "grouped_data_label.tail()"
   ]
  },
  {
   "cell_type": "code",
   "execution_count": 16,
   "metadata": {},
   "outputs": [
    {
     "data": {
      "text/plain": [
       "<Axes: xlabel='group', ylabel='count'>"
      ]
     },
     "execution_count": 16,
     "metadata": {},
     "output_type": "execute_result"
    },
    {
     "data": {
      "image/png": "[encoded data removed]",
      "text/plain": [
       "<Figure size 640x480 with 1 Axes>"
      ]
     },
     "metadata": {},
     "output_type": "display_data"
    }
   ],
   "source": [
    "sns.countplot(x=grouped_data_label['group'], order=grouped_data_label['group'].value_counts().index)"
   ]
  },
  {
   "cell_type": "code",
   "execution_count": 71,
   "metadata": {},
   "outputs": [
    {
     "data": {
      "text/plain": [
       "nan"
      ]
     },
     "execution_count": 71,
     "metadata": {},
     "output_type": "execute_result"
    }
   ],
   "source": [
    "grouped_data_label[(grouped_data_label['group']=='only_1_greater') & (grouped_data_label['count']< 10)]['count'].mean()"
   ]
  },
  {
   "cell_type": "markdown",
   "metadata": {},
   "source": [
    "# Final plotting"
   ]
  },
  {
   "cell_type": "code",
   "execution_count": 72,
   "metadata": {},
   "outputs": [],
   "source": [
    "cartography_df['label_text'] = cartography_df['label'].map({0: 'not offensive', 1: 'offensive'})"
   ]
  },
  {
   "cell_type": "code",
   "execution_count": 20,
   "metadata": {},
   "outputs": [
    {
     "data": {
      "image/png": "[encoded data removed]",
      "text/plain": [
       "<Figure size 640x480 with 1 Axes>"
      ]
     },
     "metadata": {},
     "output_type": "display_data"
    }
   ],
   "source": [
    "sns.countplot(x=grouped_data_label['group'], order=grouped_data_label['group'].value_counts().index, palette='tab10')\n",
    "\n",
    "plt.title('Confidence of Samples with Disagreement in Label', fontsize=16)\n",
    "plt.gca().set_ylabel(str(plt.gca().get_ylabel()).capitalize(), fontsize=14)\n",
    "plt.gca().set_xlabel('Group', fontsize=14)\n",
    "plt.xticks(fontsize=12)\n",
    "plt.yticks(fontsize=12)\n",
    "plt.savefig(\"./plots/disco/group_count.png\", dpi=600, bbox_inches='tight')"
   ]
  },
  {
   "cell_type": "code",
   "execution_count": 73,
   "metadata": {},
   "outputs": [
    {
     "name": "stdout",
     "output_type": "stream",
     "text": [
      "p-value annotation legend:\n",
      "      ns: 5.00e-02 < p <= 1.00e+00\n",
      "       *: 1.00e-02 < p <= 5.00e-02\n",
      "      **: 1.00e-03 < p <= 1.00e-02\n",
      "     ***: 1.00e-04 < p <= 1.00e-03\n",
      "    ****: p <= 1.00e-04\n",
      "\n",
      "False vs. True: Mann-Whitney-Wilcoxon test two-sided, P_val:0.000e+00 U_stat=3.374e+08\n"
     ]
    },
    {
     "data": {
      "image/png": "[encoded data removed]",
      "text/plain": [
       "<Figure size 640x480 with 1 Axes>"
      ]
     },
     "metadata": {},
     "output_type": "display_data"
    }
   ],
   "source": [
    "ax = sns.boxplot(data=cartography_df, x=\"disagrees_with_majority\", y=\"confidence\", showfliers=False)\n",
    "\n",
    "pairs=[ (False, True)]\n",
    "\n",
    "\n",
    "annotator = Annotator(ax, pairs, data=cartography_df, x=\"disagrees_with_majority\", y=\"confidence\")\n",
    "annotator.configure(test='Mann-Whitney', text_format='star')\n",
    "annotator.apply_and_annotate()\n",
    "\n",
    "plt.gca().set_ylabel(str(plt.gca().get_ylabel()).capitalize(), fontsize=14)\n",
    "plt.gca().set_xlabel('Disagrees with majority vote', fontsize=14)\n",
    "plt.xticks(fontsize=12)\n",
    "plt.yticks(fontsize=12)\n",
    "plt.savefig(\"./plots/disco/disagree_vs_conf.png\", dpi=600, bbox_inches='tight')"
   ]
  },
  {
   "cell_type": "code",
   "execution_count": 21,
   "metadata": {},
   "outputs": [
    {
     "name": "stdout",
     "output_type": "stream",
     "text": [
      "p-value annotation legend:\n",
      "      ns: 5.00e-02 < p <= 1.00e+00\n",
      "       *: 1.00e-02 < p <= 5.00e-02\n",
      "      **: 1.00e-03 < p <= 1.00e-02\n",
      "     ***: 1.00e-04 < p <= 1.00e-03\n",
      "    ****: p <= 1.00e-04\n",
      "\n",
      "False vs. True: Mann-Whitney-Wilcoxon test two-sided, P_val:0.000e+00 U_stat=3.374e+08\n"
     ]
    },
    {
     "data": {
      "image/png": "[encoded data removed]",
      "text/plain": [
       "<Figure size 640x480 with 1 Axes>"
      ]
     },
     "metadata": {},
     "output_type": "display_data"
    }
   ],
   "source": [
    "ax = sns.boxplot(data=cartography_df[cartography_df['majority_confidence']<0.5], x=\"disagrees_with_majority\", y=\"confidence\", showfliers=False)\n",
    "\n",
    "pairs=[ (False, True)]\n",
    "\n",
    "\n",
    "annotator = Annotator(ax, pairs, data=cartography_df, x=\"disagrees_with_majority\", y=\"confidence\")\n",
    "annotator.configure(test='Mann-Whitney', text_format='star')\n",
    "annotator.apply_and_annotate()\n",
    "\n",
    "plt.title('Samples with low confidence (<0.5) in Single-GL model', fontsize=16)\n",
    "plt.gca().set_ylabel(str(plt.gca().get_ylabel()).capitalize(), fontsize=14)\n",
    "plt.gca().set_xlabel('Disagrees with majority vote', fontsize=14)\n",
    "plt.xticks(fontsize=12)\n",
    "plt.yticks(fontsize=12)\n",
    "plt.savefig(\"./plots/disco/low_conf_mjr_disagree_vs_conf.png\", dpi=600, bbox_inches='tight')"
   ]
  },
  {
   "cell_type": "code",
   "execution_count": 77,
   "metadata": {},
   "outputs": [
    {
     "name": "stdout",
     "output_type": "stream",
     "text": [
      "p-value annotation legend:\n",
      "      ns: 5.00e-02 < p <= 1.00e+00\n",
      "       *: 1.00e-02 < p <= 5.00e-02\n",
      "      **: 1.00e-03 < p <= 1.00e-02\n",
      "     ***: 1.00e-04 < p <= 1.00e-03\n",
      "    ****: p <= 1.00e-04\n",
      "\n",
      "0.6_0 vs. 1.0_0: Mann-Whitney-Wilcoxon test two-sided, P_val:2.741e-170 U_stat=1.238e+06\n",
      "0.6_1 vs. 1.0_1: Mann-Whitney-Wilcoxon test two-sided, P_val:1.830e-25 U_stat=3.020e+06\n"
     ]
    },
    {
     "data": {
      "image/png": "[encoded data removed]",
      "text/plain": [
       "<Figure size 640x480 with 1 Axes>"
      ]
     },
     "metadata": {},
     "output_type": "display_data"
    }
   ],
   "source": [
    "ax = sns.boxplot(data=cartography_df, x=\"agreement_factor_rd\", y=\"confidence\", hue='label_text', showfliers=False)\n",
    "\n",
    "\n",
    "pairs=[ ((0.6, 0), (1.0, 0)), ((0.6, 1), (1.0, 1))]\n",
    "\n",
    "\n",
    "annotator = Annotator(ax, pairs, data=cartography_df, x=\"agreement_factor_rd\", y=\"confidence\", hue='label')\n",
    "annotator.configure(test='Mann-Whitney', text_format='star')\n",
    "annotator.apply_and_annotate()\n",
    "\n",
    "plt.gca().set_ylabel(str(plt.gca().get_ylabel()).capitalize(), fontsize=14)\n",
    "plt.gca().set_xlabel('Agreement Factor', fontsize=14)\n",
    "plt.xticks(fontsize=12)\n",
    "plt.yticks(fontsize=12)\n",
    "plt.legend(title = 'Label', loc='lower right')\n",
    "plt.savefig(\"./plots/disco/agr_factor_vs_conf.png\", dpi=600, bbox_inches='tight')"
   ]
  },
  {
   "cell_type": "code",
   "execution_count": 3,
   "metadata": {},
   "outputs": [
    {
     "data": {
      "text/plain": [
       "PearsonRResult(statistic=0.4363909769178712, pvalue=0.0)"
      ]
     },
     "execution_count": 3,
     "metadata": {},
     "output_type": "execute_result"
    }
   ],
   "source": [
    "from scipy.stats import pearsonr\n",
    "\n",
    "pearsonr(cartography_df['confidence'], cartography_df['agreement_factor_rd'])"
   ]
  },
  {
   "cell_type": "code",
   "execution_count": 22,
   "metadata": {},
   "outputs": [
    {
     "data": {
      "text/html": [
       "<div>\n",
       "<style scoped>\n",
       "    .dataframe tbody tr th:only-of-type {\n",
       "        vertical-align: middle;\n",
       "    }\n",
       "\n",
       "    .dataframe tbody tr th {\n",
       "        vertical-align: top;\n",
       "    }\n",
       "\n",
       "    .dataframe thead th {\n",
       "        text-align: right;\n",
       "    }\n",
       "</style>\n",
       "<table border=\"1\" class=\"dataframe\">\n",
       "  <thead>\n",
       "    <tr style=\"text-align: right;\">\n",
       "      <th></th>\n",
       "      <th>confidence</th>\n",
       "      <th>majority_confidence</th>\n",
       "    </tr>\n",
       "    <tr>\n",
       "      <th>Mindex</th>\n",
       "      <th></th>\n",
       "      <th></th>\n",
       "    </tr>\n",
       "  </thead>\n",
       "  <tbody>\n",
       "    <tr>\n",
       "      <th>1</th>\n",
       "      <td>0.951058</td>\n",
       "      <td>0.974269</td>\n",
       "    </tr>\n",
       "    <tr>\n",
       "      <th>4</th>\n",
       "      <td>0.831342</td>\n",
       "      <td>0.581928</td>\n",
       "    </tr>\n",
       "    <tr>\n",
       "      <th>5</th>\n",
       "      <td>0.875403</td>\n",
       "      <td>0.741554</td>\n",
       "    </tr>\n",
       "    <tr>\n",
       "      <th>6</th>\n",
       "      <td>0.961300</td>\n",
       "      <td>0.914978</td>\n",
       "    </tr>\n",
       "    <tr>\n",
       "      <th>7</th>\n",
       "      <td>0.903952</td>\n",
       "      <td>0.904037</td>\n",
       "    </tr>\n",
       "  </tbody>\n",
       "</table>\n",
       "</div>"
      ],
      "text/plain": [
       "        confidence  majority_confidence\n",
       "Mindex                                 \n",
       "1         0.951058             0.974269\n",
       "4         0.831342             0.581928\n",
       "5         0.875403             0.741554\n",
       "6         0.961300             0.914978\n",
       "7         0.903952             0.904037"
      ]
     },
     "execution_count": 22,
     "metadata": {},
     "output_type": "execute_result"
    }
   ],
   "source": [
    "max_conf_df = cartography_df.groupby('Mindex').agg({'confidence': 'max', 'majority_confidence': 'first'})\n",
    "max_conf_df.head()"
   ]
  },
  {
   "cell_type": "code",
   "execution_count": 23,
   "metadata": {},
   "outputs": [
    {
     "name": "stderr",
     "output_type": "stream",
     "text": [
      "/Users/abhishekanand/miniforge3/envs/py11-env/lib/python3.11/site-packages/seaborn/distributions.py:2551: FutureWarning: `distplot` is a deprecated function and will be removed in a future version. Please adapt your code to use either `displot` (a figure-level function with similar flexibility) or `kdeplot` (an axes-level function for kernel density plots).\n",
      "  warnings.warn(msg, FutureWarning)\n",
      "/Users/abhishekanand/miniforge3/envs/py11-env/lib/python3.11/site-packages/seaborn/distributions.py:2551: FutureWarning: `distplot` is a deprecated function and will be removed in a future version. Please adapt your code to use either `displot` (a figure-level function with similar flexibility) or `kdeplot` (an axes-level function for kernel density plots).\n",
      "  warnings.warn(msg, FutureWarning)\n"
     ]
    },
    {
     "data": {
      "text/plain": [
       "Text(0, 0.5, 'Density')"
      ]
     },
     "execution_count": 23,
     "metadata": {},
     "output_type": "execute_result"
    },
    {
     "data": {
      "image/png": "[encoded data removed]",
      "text/plain": [
       "<Figure size 640x480 with 1 Axes>"
      ]
     },
     "metadata": {},
     "output_type": "display_data"
    }
   ],
   "source": [
    "sns.distplot(max_conf_df['confidence'], hist = False, kde = True, kde_kws = {'linewidth': 2}, label = 'confidence')\n",
    "sns.distplot(max_conf_df['majority_confidence'], hist = False, kde = True, kde_kws = {'linewidth': 2}, label = 'majority_confidence')\n",
    "plt.legend(prop={'size': 10}, title = 'Columns')\n",
    "plt.title('Density Plot of Confidence and Majority Confidence')\n",
    "plt.xlabel('Value')\n",
    "plt.ylabel('Density')"
   ]
  },
  {
   "cell_type": "code",
   "execution_count": null,
   "metadata": {},
   "outputs": [],
   "source": []
  }
 ],
 "metadata": {
  "kernelspec": {
   "display_name": "py11-env",
   "language": "python",
   "name": "python3"
  },
  "language_info": {
   "codemirror_mode": {
    "name": "ipython",
    "version": 3
   },
   "file_extension": ".py",
   "mimetype": "text/x-python",
   "name": "python",
   "nbconvert_exporter": "python",
   "pygments_lexer": "ipython3",
   "version": "3.11.6"
  }
 },
 "nbformat": 4,
 "nbformat_minor": 2
}
