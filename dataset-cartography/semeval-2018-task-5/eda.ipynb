{
 "cells": [
  {
   "cell_type": "code",
   "execution_count": 2,
   "metadata": {},
   "outputs": [],
   "source": [
    "import pandas as pd\n",
    "import numpy as np"
   ]
  },
  {
   "cell_type": "code",
   "execution_count": 3,
   "metadata": {},
   "outputs": [],
   "source": [
    "df = pd.read_csv('2018-all-emotions-annotations-full (1).csv')"
   ]
  },
  {
   "cell_type": "code",
   "execution_count": 4,
   "metadata": {},
   "outputs": [
    {
     "data": {
      "text/html": [
       "<div>\n",
       "<style scoped>\n",
       "    .dataframe tbody tr th:only-of-type {\n",
       "        vertical-align: middle;\n",
       "    }\n",
       "\n",
       "    .dataframe tbody tr th {\n",
       "        vertical-align: top;\n",
       "    }\n",
       "\n",
       "    .dataframe thead th {\n",
       "        text-align: right;\n",
       "    }\n",
       "</style>\n",
       "<table border=\"1\" class=\"dataframe\">\n",
       "  <thead>\n",
       "    <tr style=\"text-align: right;\">\n",
       "      <th></th>\n",
       "      <th>_unit_id</th>\n",
       "      <th>_id</th>\n",
       "      <th>_worker_id</th>\n",
       "      <th>emotion</th>\n",
       "      <th>emotionsecondary</th>\n",
       "      <th>id</th>\n",
       "      <th>tweet</th>\n",
       "    </tr>\n",
       "  </thead>\n",
       "  <tbody>\n",
       "    <tr>\n",
       "      <th>0</th>\n",
       "      <td>1423360081</td>\n",
       "      <td>2963405527</td>\n",
       "      <td>43988597</td>\n",
       "      <td>joy</td>\n",
       "      <td>Slove\\nSoptimism</td>\n",
       "      <td>40651</td>\n",
       "      <td>When tears r inappropriate: 'This day is holy ...</td>\n",
       "    </tr>\n",
       "    <tr>\n",
       "      <th>1</th>\n",
       "      <td>1423360081</td>\n",
       "      <td>2963963392</td>\n",
       "      <td>43913883</td>\n",
       "      <td>joy</td>\n",
       "      <td>Soptimism</td>\n",
       "      <td>40651</td>\n",
       "      <td>When tears r inappropriate: 'This day is holy ...</td>\n",
       "    </tr>\n",
       "    <tr>\n",
       "      <th>2</th>\n",
       "      <td>1423360081</td>\n",
       "      <td>2964040591</td>\n",
       "      <td>36841019</td>\n",
       "      <td>sadness</td>\n",
       "      <td>Snone</td>\n",
       "      <td>40651</td>\n",
       "      <td>When tears r inappropriate: 'This day is holy ...</td>\n",
       "    </tr>\n",
       "    <tr>\n",
       "      <th>3</th>\n",
       "      <td>1423360081</td>\n",
       "      <td>2964117066</td>\n",
       "      <td>35903629</td>\n",
       "      <td>neutral</td>\n",
       "      <td>Snone</td>\n",
       "      <td>40651</td>\n",
       "      <td>When tears r inappropriate: 'This day is holy ...</td>\n",
       "    </tr>\n",
       "    <tr>\n",
       "      <th>4</th>\n",
       "      <td>1423360081</td>\n",
       "      <td>2964130594</td>\n",
       "      <td>43115723</td>\n",
       "      <td>optimism</td>\n",
       "      <td>Santicipation\\nSoptimism</td>\n",
       "      <td>40651</td>\n",
       "      <td>When tears r inappropriate: 'This day is holy ...</td>\n",
       "    </tr>\n",
       "  </tbody>\n",
       "</table>\n",
       "</div>"
      ],
      "text/plain": [
       "     _unit_id         _id  _worker_id   emotion          emotionsecondary  \\\n",
       "0  1423360081  2963405527    43988597       joy          Slove\\nSoptimism   \n",
       "1  1423360081  2963963392    43913883       joy                 Soptimism   \n",
       "2  1423360081  2964040591    36841019   sadness                     Snone   \n",
       "3  1423360081  2964117066    35903629   neutral                     Snone   \n",
       "4  1423360081  2964130594    43115723  optimism  Santicipation\\nSoptimism   \n",
       "\n",
       "      id                                              tweet  \n",
       "0  40651  When tears r inappropriate: 'This day is holy ...  \n",
       "1  40651  When tears r inappropriate: 'This day is holy ...  \n",
       "2  40651  When tears r inappropriate: 'This day is holy ...  \n",
       "3  40651  When tears r inappropriate: 'This day is holy ...  \n",
       "4  40651  When tears r inappropriate: 'This day is holy ...  "
      ]
     },
     "execution_count": 4,
     "metadata": {},
     "output_type": "execute_result"
    }
   ],
   "source": [
    "df.head()"
   ]
  },
  {
   "cell_type": "code",
   "execution_count": 5,
   "metadata": {},
   "outputs": [
    {
     "data": {
      "text/plain": [
       "183"
      ]
     },
     "execution_count": 5,
     "metadata": {},
     "output_type": "execute_result"
    }
   ],
   "source": [
    "len(df['_worker_id'].unique())"
   ]
  },
  {
   "cell_type": "code",
   "execution_count": 8,
   "metadata": {},
   "outputs": [
    {
     "data": {
      "text/plain": [
       "count     183.000000\n",
       "mean      476.382514\n",
       "std      1079.239464\n",
       "min        10.000000\n",
       "25%        10.000000\n",
       "50%        40.000000\n",
       "75%       241.500000\n",
       "max      4670.000000\n",
       "dtype: float64"
      ]
     },
     "execution_count": 8,
     "metadata": {},
     "output_type": "execute_result"
    }
   ],
   "source": [
    "df.groupby('_worker_id').size().describe()"
   ]
  },
  {
   "cell_type": "code",
   "execution_count": 9,
   "metadata": {},
   "outputs": [
    {
     "data": {
      "text/plain": [
       "87178"
      ]
     },
     "execution_count": 9,
     "metadata": {},
     "output_type": "execute_result"
    }
   ],
   "source": [
    "len(df)"
   ]
  },
  {
   "cell_type": "code",
   "execution_count": null,
   "metadata": {},
   "outputs": [],
   "source": []
  }
 ],
 "metadata": {
  "kernelspec": {
   "display_name": "py11-env",
   "language": "python",
   "name": "python3"
  },
  "language_info": {
   "codemirror_mode": {
    "name": "ipython",
    "version": 3
   },
   "file_extension": ".py",
   "mimetype": "text/x-python",
   "name": "python",
   "nbconvert_exporter": "python",
   "pygments_lexer": "ipython3",
   "version": "3.11.6"
  },
  "orig_nbformat": 4
 },
 "nbformat": 4,
 "nbformat_minor": 2
}
